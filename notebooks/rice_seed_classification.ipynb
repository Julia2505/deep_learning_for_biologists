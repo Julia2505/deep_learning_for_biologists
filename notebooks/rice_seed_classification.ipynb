{
  "nbformat": 4,
  "nbformat_minor": 0,
  "metadata": {
    "colab": {
      "name": "rice_seed_classification.ipynb",
      "version": "0.3.2",
      "provenance": [],
      "toc_visible": true,
      "include_colab_link": true
    },
    "kernelspec": {
      "name": "python3",
      "display_name": "Python 3"
    },
    "accelerator": "GPU"
  },
  "cells": [
    {
      "cell_type": "markdown",
      "metadata": {
        "id": "view-in-github",
        "colab_type": "text"
      },
      "source": [
        "<a href=\"https://colab.research.google.com/github/totti0223/deep_learning_for_biologists_with_keras/blob/master/notebooks/rice_seed_classification.ipynb\" target=\"_parent\"><img src=\"https://colab.research.google.com/assets/colab-badge.svg\" alt=\"Open In Colab\"/></a>"
      ]
    },
    {
      "metadata": {
        "id": "x6JoE4rdE9ae",
        "colab_type": "text"
      },
      "cell_type": "markdown",
      "source": [
        "# Rice Seed Classification"
      ]
    },
    {
      "metadata": {
        "id": "hxlu9J0UFEbb",
        "colab_type": "text"
      },
      "cell_type": "markdown",
      "source": [
        "## Preface"
      ]
    },
    {
      "metadata": {
        "id": "kNqEeYHZIj7W",
        "colab_type": "text"
      },
      "cell_type": "markdown",
      "source": [
        "How will you classify the bellow two images?\n",
        "\n",
        "![rice](https://github.com/totti0223/deep_learning_for_biologists_with_keras/raw/master/assets/11.jpg) Proper Shaped Rice Seed\n",
        "\n",
        "![rice](https://github.com/totti0223/deep_learning_for_biologists_with_keras/raw/master/assets/141.jpg) Broken Rice Seed\n"
      ]
    },
    {
      "metadata": {
        "id": "DdqTISDXFI9q",
        "colab_type": "text"
      },
      "cell_type": "markdown",
      "source": [
        "## Library and Custom Function Import"
      ]
    },
    {
      "metadata": {
        "id": "vv_CFDFPE2BJ",
        "colab_type": "code",
        "colab": {}
      },
      "cell_type": "code",
      "source": [
        "import numpy as np \n",
        "import math, os, sys\n",
        "\n",
        "import matplotlib.pyplot as plt\n",
        "\n",
        "from scipy import ndimage\n",
        "\n",
        "from skimage import measure, morphology\n",
        "from skimage.io import imsave, imread\n",
        "from skimage.color import rgb2gray\n",
        "from skimage.filters import threshold_otsu\n",
        "from skimage.transform import resize\n",
        "\n",
        "from sklearn import svm, datasets\n",
        "from sklearn.metrics import confusion_matrix\n",
        "import pandas as pd"
      ],
      "execution_count": 0,
      "outputs": []
    },
    {
      "metadata": {
        "id": "pQptkk_24tvw",
        "colab_type": "code",
        "colab": {}
      },
      "cell_type": "code",
      "source": [
        "#confusion matrix drawing function provided by sklearn\n",
        "#https://scikit-learn.org/stable/auto_examples/model_selection/plot_confusion_matrix.html#sphx-glr-auto-examples-model-selection-plot-confusion-matrix-py\n",
        "def plot_confusion_matrix(cm, classes,\n",
        "                          normalize=False,\n",
        "                          title='Confusion matrix',\n",
        "                          cmap=plt.cm.Blues):\n",
        "    \"\"\"\n",
        "    This function prints and plots the confusion matrix.\n",
        "    Normalization can be applied by setting `normalize=True`.\n",
        "    \"\"\"\n",
        "    if normalize:\n",
        "        cm = cm.astype('float') / cm.sum(axis=1)[:, np.newaxis]\n",
        "        print(\"Normalized confusion matrix\")\n",
        "    else:\n",
        "        print('Confusion matrix, without normalization')\n",
        "\n",
        "    #print(cm)\n",
        "\n",
        "    plt.imshow(cm, interpolation='nearest', cmap=cmap)\n",
        "    plt.title(title)\n",
        "    #plt.colorbar()\n",
        "    tick_marks = np.arange(len(classes))\n",
        "    plt.xticks(tick_marks, classes, rotation=90)\n",
        "    plt.yticks(tick_marks, classes)\n",
        "\n",
        "    fmt = '.2f' if normalize else 'd'\n",
        "    thresh = cm.max() / 2.\n",
        "    for i, j in itertools.product(range(cm.shape[0]), range(cm.shape[1])):\n",
        "        plt.text(j, i, format(cm[i, j], fmt),\n",
        "                 horizontalalignment=\"center\",\n",
        "                 color=\"white\" if cm[i, j] > thresh else \"black\")\n",
        "\n",
        "    plt.ylabel('True label')\n",
        "    plt.xlabel('Predicted label')\n",
        "    plt.tight_layout()"
      ],
      "execution_count": 0,
      "outputs": []
    },
    {
      "metadata": {
        "id": "Sm3vlPx3NReD",
        "colab_type": "code",
        "colab": {
          "base_uri": "https://localhost:8080/",
          "height": 1008
        },
        "outputId": "5b607005-f1db-4342-c1a1-4d21f8698eeb"
      },
      "cell_type": "code",
      "source": [
        "!apt-get install subversion"
      ],
      "execution_count": 2,
      "outputs": [
        {
          "output_type": "stream",
          "text": [
            "Reading package lists... Done\n",
            "Building dependency tree       \n",
            "Reading state information... Done\n",
            "The following additional packages will be installed:\n",
            "  libapr1 libaprutil1 libserf-1-1 libsvn1\n",
            "Suggested packages:\n",
            "  db5.3-util libapache2-mod-svn subversion-tools\n",
            "The following NEW packages will be installed:\n",
            "  libapr1 libaprutil1 libserf-1-1 libsvn1 subversion\n",
            "0 upgraded, 5 newly installed, 0 to remove and 8 not upgraded.\n",
            "Need to get 2,237 kB of archives.\n",
            "After this operation, 9,910 kB of additional disk space will be used.\n",
            "Get:1 http://archive.ubuntu.com/ubuntu bionic/main amd64 libapr1 amd64 1.6.3-2 [90.9 kB]\n",
            "Get:2 http://archive.ubuntu.com/ubuntu bionic/main amd64 libaprutil1 amd64 1.6.1-2 [84.4 kB]\n",
            "Get:3 http://archive.ubuntu.com/ubuntu bionic/universe amd64 libserf-1-1 amd64 1.3.9-6 [44.4 kB]\n",
            "Get:4 http://archive.ubuntu.com/ubuntu bionic/universe amd64 libsvn1 amd64 1.9.7-4ubuntu1 [1,183 kB]\n",
            "Get:5 http://archive.ubuntu.com/ubuntu bionic/universe amd64 subversion amd64 1.9.7-4ubuntu1 [834 kB]\n",
            "Fetched 2,237 kB in 2s (1,463 kB/s)\n",
            "Selecting previously unselected package libapr1:amd64.\n",
            "(Reading database ... 110842 files and directories currently installed.)\n",
            "Preparing to unpack .../libapr1_1.6.3-2_amd64.deb ...\n",
            "Unpacking libapr1:amd64 (1.6.3-2) ...\n",
            "Selecting previously unselected package libaprutil1:amd64.\n",
            "Preparing to unpack .../libaprutil1_1.6.1-2_amd64.deb ...\n",
            "Unpacking libaprutil1:amd64 (1.6.1-2) ...\n",
            "Selecting previously unselected package libserf-1-1:amd64.\n",
            "Preparing to unpack .../libserf-1-1_1.3.9-6_amd64.deb ...\n",
            "Unpacking libserf-1-1:amd64 (1.3.9-6) ...\n",
            "Selecting previously unselected package libsvn1:amd64.\n",
            "Preparing to unpack .../libsvn1_1.9.7-4ubuntu1_amd64.deb ...\n",
            "Unpacking libsvn1:amd64 (1.9.7-4ubuntu1) ...\n",
            "Selecting previously unselected package subversion.\n",
            "Preparing to unpack .../subversion_1.9.7-4ubuntu1_amd64.deb ...\n",
            "Unpacking subversion (1.9.7-4ubuntu1) ...\n",
            "Setting up libapr1:amd64 (1.6.3-2) ...\n",
            "Processing triggers for libc-bin (2.27-3ubuntu1) ...\n",
            "Setting up libaprutil1:amd64 (1.6.1-2) ...\n",
            "Processing triggers for man-db (2.8.3-2ubuntu0.1) ...\n",
            "Setting up libserf-1-1:amd64 (1.3.9-6) ...\n",
            "Setting up libsvn1:amd64 (1.9.7-4ubuntu1) ...\n",
            "Setting up subversion (1.9.7-4ubuntu1) ...\n",
            "Processing triggers for libc-bin (2.27-3ubuntu1) ...\n"
          ],
          "name": "stdout"
        }
      ]
    },
    {
      "metadata": {
        "id": "p_I6ZZ6HKvsV",
        "colab_type": "text"
      },
      "cell_type": "markdown",
      "source": [
        "## Dataset Import"
      ]
    },
    {
      "metadata": {
        "id": "ErxWOZ1KMKZ_",
        "colab_type": "code",
        "colab": {}
      },
      "cell_type": "code",
      "source": [
        "!svn export https://github.com/totti0223/deep_learning_for_biologists_with_keras/trunk/notebooks/data/image image -q"
      ],
      "execution_count": 0,
      "outputs": []
    },
    {
      "metadata": {
        "id": "9AXVWZgTPGYx",
        "colab_type": "code",
        "colab": {
          "base_uri": "https://localhost:8080/",
          "height": 564
        },
        "outputId": "1b78f733-9dd5-4bc8-9421-a9c8eb5294f4"
      },
      "cell_type": "code",
      "source": [
        "image = imread(\"image/train/proper/100.jpg\")\n",
        "plt.imshow(image)"
      ],
      "execution_count": 4,
      "outputs": [
        {
          "output_type": "execute_result",
          "data": {
            "text/plain": [
              "<matplotlib.image.AxesImage at 0x7f0b524ded30>"
            ]
          },
          "metadata": {
            "tags": []
          },
          "execution_count": 4
        },
        {
          "output_type": "display_data",
          "data": {
            "image/png": "[encoded data removed]",
            "text/plain": [
              "<matplotlib.figure.Figure at 0x7f0b5d69b9e8>"
            ]
          },
          "metadata": {
            "tags": []
          }
        }
      ]
    },
    {
      "metadata": {
        "id": "iHNV81ptRQD1",
        "colab_type": "code",
        "colab": {
          "base_uri": "https://localhost:8080/",
          "height": 292
        },
        "outputId": "afe41e8e-6938-4b9c-95bd-45a5914280ea"
      },
      "cell_type": "code",
      "source": [
        "#lets load everything into memory\n",
        "\n",
        "X_train = []\n",
        "y_train = []\n",
        "\n",
        "for root, dirs, files in os.walk(\"image/train\"):\n",
        "    for file in files:\n",
        "        image_path = os.path.join(root, file)\n",
        "        \n",
        "        image = imread(image_path)/255.\n",
        "        image = resize(image,(32,32))\n",
        "        X_train.append(image)        \n",
        "        category = os.path.split(root)[-1]\n",
        "        if category == \"proper\":\n",
        "            y_train.append(0)\n",
        "        else:\n",
        "            y_train.append(1)\n",
        "X_train = np.array(X_train)\n",
        "y_train = np.array(y_train)\n",
        "\n",
        "X_test = []\n",
        "y_test = []\n",
        "\n",
        "for root, dirs, files in os.walk(\"image/test\"):\n",
        "    for file in files:\n",
        "        image_path = os.path.join(root, file)\n",
        "        \n",
        "        image = imread(image_path)/255.\n",
        "        image = resize(image,(32,32))\n",
        "        X_test.append(image)        \n",
        "        category = os.path.split(root)[-1]\n",
        "        if category == \"proper\":\n",
        "            y_test.append(0)\n",
        "        else:\n",
        "            y_test.append(1)\n",
        "X_test = np.array(X_test)\n",
        "y_test = np.array(y_test)\n",
        "\n",
        "print(X_train.shape,y_train.shape)\n",
        "print(X_test.shape,y_test.shape)"
      ],
      "execution_count": 10,
      "outputs": [
        {
          "output_type": "stream",
          "text": [
            "/usr/local/lib/python3.6/dist-packages/skimage/transform/_warps.py:84: UserWarning: The default mode, 'constant', will be changed to 'reflect' in skimage 0.15.\n",
            "  warn(\"The default mode, 'constant', will be changed to 'reflect' in \"\n"
          ],
          "name": "stderr"
        },
        {
          "output_type": "stream",
          "text": [
            "(377, 32, 32, 3) (377,)\n",
            "(20, 32, 32, 3) (20,)\n"
          ],
          "name": "stdout"
        }
      ]
    },
    {
      "metadata": {
        "id": "xnx3mVnBkBPJ",
        "colab_type": "text"
      },
      "cell_type": "markdown",
      "source": [
        "# 1. Manual Thresholding for Classification"
      ]
    },
    {
      "metadata": {
        "colab_type": "code",
        "outputId": "44169396-fe50-40b3-fff0-bb35747e8a16",
        "id": "xW8efuFNJ2iL",
        "colab": {
          "base_uri": "https://localhost:8080/",
          "height": 580
        }
      },
      "cell_type": "code",
      "source": [
        "#Let's try it for one image\n",
        "image = X_train[0]\n",
        "\n",
        "#the original image\n",
        "print(image.shape)\n",
        "plt.imshow(image)\n",
        "plt.title(\"original\")\n",
        "plt.show()"
      ],
      "execution_count": 20,
      "outputs": [
        {
          "output_type": "stream",
          "text": [
            "(32, 32, 3)\n"
          ],
          "name": "stdout"
        },
        {
          "output_type": "display_data",
          "data": {
            "image/png": "[encoded data removed]",
            "text/plain": [
              "<matplotlib.figure.Figure at 0x7f0b4fb29a90>"
            ]
          },
          "metadata": {
            "tags": []
          }
        }
      ]
    },
    {
      "metadata": {
        "id": "on8SXqeyqn6y",
        "colab_type": "code",
        "colab": {
          "base_uri": "https://localhost:8080/",
          "height": 580
        },
        "outputId": "d7f58d17-1f23-407f-b584-ebf0ade5529c"
      },
      "cell_type": "code",
      "source": [
        "#gray conversion\n",
        "gray = rgb2gray(image)\n",
        "print(gray.shape)\n",
        "plt.imshow(gray, cmap=plt.cm.gray)\n",
        "plt.title(\"gray converted\")\n",
        "plt.show()"
      ],
      "execution_count": 21,
      "outputs": [
        {
          "output_type": "stream",
          "text": [
            "(32, 32)\n"
          ],
          "name": "stdout"
        },
        {
          "output_type": "display_data",
          "data": {
            "image/png": "[encoded data removed]",
            "text/plain": [
              "<matplotlib.figure.Figure at 0x7f0b4f86eb00>"
            ]
          },
          "metadata": {
            "tags": []
          }
        }
      ]
    },
    {
      "metadata": {
        "id": "KHKRsea1qsEh",
        "colab_type": "code",
        "colab": {
          "base_uri": "https://localhost:8080/",
          "height": 548
        },
        "outputId": "54249154-ad3c-4f49-e705-025526b1b0c8"
      },
      "cell_type": "code",
      "source": [
        "#binary conversion\n",
        "threshold = threshold_otsu(gray)\n",
        "binary = gray > threshold\n",
        "plt.imshow(binary, cmap=plt.cm.gray)\n",
        "plt.show()"
      ],
      "execution_count": 22,
      "outputs": [
        {
          "output_type": "display_data",
          "data": {
            "image/png": "[encoded data removed]",
            "text/plain": [
              "<matplotlib.figure.Figure at 0x7f0b4f7b8748>"
            ]
          },
          "metadata": {
            "tags": []
          }
        }
      ]
    },
    {
      "metadata": {
        "id": "BUFKmeIHmJm4",
        "colab_type": "text"
      },
      "cell_type": "markdown",
      "source": [
        "Lets manually define the feature for classification. In this case, simply binarizing the image, extracting the area size of each image and then defining a threshold will do well. All of the image transformation and area measuring can be done with the functions of skimage and scipy."
      ]
    },
    {
      "metadata": {
        "id": "ErLnR9QmE2B6",
        "colab_type": "code",
        "colab": {
          "base_uri": "https://localhost:8080/",
          "height": 272
        },
        "outputId": "c00ee509-c594-4293-b49a-d5cd5a5cd0db"
      },
      "cell_type": "code",
      "source": [
        "label_im, nb_labels = ndimage.label(binary)\n",
        "#検出された領域の特徴（幾何学的性質等）を取得しましょう。\n",
        "#領域の明度も取得したいので参照用gray画像も併せて利用します。\n",
        "regionprops = measure.regionprops(label_im, intensity_image=gray)\n",
        "#複数領域の検出を前提として、regionproprsには結果が複数領域分格納されます。１つ目の領域を指定しましょう。\n",
        "regionprop = regionprops[0]\n",
        "\n",
        "#様々な情報を参照できます。\n",
        "print(regionprop.area)\n",
        "print(regionprop.major_axis_length)\n",
        "print(regionprop.minor_axis_length)"
      ],
      "execution_count": 30,
      "outputs": [
        {
          "output_type": "stream",
          "text": [
            "265\n",
            "18.960453228032428\n",
            "18.350131979990607\n"
          ],
          "name": "stdout"
        }
      ]
    },
    {
      "metadata": {
        "id": "Zi12D78UE2B8",
        "colab_type": "code",
        "colab": {
          "base_uri": "https://localhost:8080/",
          "height": 216
        },
        "outputId": "7fd55e3a-01e4-425f-bc3a-b98cff1b9ffa"
      },
      "cell_type": "code",
      "source": [
        "#bundling the above into a function\n",
        "def quantify_area(image):\n",
        "    gray = rgb2gray(image)\n",
        "    threshold = threshold_otsu(gray)\n",
        "    binary = gray > threshold\n",
        "    label_im, nb_labels = ndimage.label(binary)\n",
        "    regionprops = measure.regionprops(label_im, intensity_image=gray)\n",
        "    regionprop = regionprops[0]\n",
        "    area = regionprop.area\n",
        "    return area\n",
        "\n",
        "#test\n",
        "area = quantify_area(image)\n",
        "print(area)"
      ],
      "execution_count": 32,
      "outputs": [
        {
          "output_type": "stream",
          "text": [
            "265\n"
          ],
          "name": "stdout"
        }
      ]
    },
    {
      "metadata": {
        "id": "gcb0dZVu1wQB",
        "colab_type": "code",
        "colab": {}
      },
      "cell_type": "code",
      "source": [
        "X_train_area = []\n",
        "for image in X_train:\n",
        "    area = quantify_area(image)\n",
        "    X_train_area.append(area)\n",
        "\n",
        "X_test_area = []\n",
        "for image in X_test:\n",
        "    area = quantify_area(image)\n",
        "    X_test_area.append(area)"
      ],
      "execution_count": 0,
      "outputs": []
    },
    {
      "metadata": {
        "id": "Otvv4XQrEIQd",
        "colab_type": "text"
      },
      "cell_type": "markdown",
      "source": [
        ""
      ]
    },
    {
      "metadata": {
        "id": "kN-OpWAu-G0J",
        "colab_type": "code",
        "colab": {
          "base_uri": "https://localhost:8080/",
          "height": 381
        },
        "outputId": "5c39d62a-a662-4ac5-da21-a92dfb07ca1f"
      },
      "cell_type": "code",
      "source": [
        "#check the calculated data area value of training dataset\n",
        "plt.scatter(range(len(X_train_area)),X_train_area,c=y_train,cmap=\"jet\")\n",
        "plt.xlabel(\"rice seed images\")\n",
        "plt.ylabel(\"area (px)\")\n",
        "plt.show()"
      ],
      "execution_count": 59,
      "outputs": [
        {
          "output_type": "display_data",
          "data": {
            "image/png": "[encoded data removed]",
            "text/plain": [
              "<matplotlib.figure.Figure at 0x7f0b52e37630>"
            ]
          },
          "metadata": {
            "tags": []
          }
        }
      ]
    },
    {
      "metadata": {
        "id": "eL5ADdJHFWCz",
        "colab_type": "code",
        "colab": {}
      },
      "cell_type": "code",
      "source": [
        "#define a threshold that can seperate the "
      ],
      "execution_count": 0,
      "outputs": []
    },
    {
      "metadata": {
        "id": "Ba19VKKzE2B8",
        "colab_type": "code",
        "colab": {},
        "outputId": "eb0c8079-6e58-4348-df93-0ac5792102ac"
      },
      "cell_type": "code",
      "source": [
        "#領域が２つありますので、情報を見てみましょう。\n",
        "#参考 http://scikit-image.org/docs/0.12.x/api/skimage.measure.html\n",
        "print (regionprops[0])\n",
        "print (\"面積は\", regionprops[0].area,\"pxです。\")\n",
        "print (\"長軸長は\",regionprops[0].major_axis_length,\"pxです。\")\n",
        "print (\"__________\")\n"
      ],
      "execution_count": 0,
      "outputs": [
        {
          "output_type": "stream",
          "text": [
            "<skimage.measure._regionprops._RegionProperties object at 0x120e91198>\n",
            "面積は 439 pxです。\n",
            "長軸長は 31.364997117913834 pxです。\n",
            "__________\n"
          ],
          "name": "stdout"
        }
      ]
    },
    {
      "metadata": {
        "id": "bFyN8zW5E2B-",
        "colab_type": "code",
        "colab": {},
        "outputId": "4bef0c71-8406-47e7-e128-7d7e4b0c2c4a"
      },
      "cell_type": "code",
      "source": [
        "#このように標記することもできます。\n",
        "for region in regionprops:\n",
        "    print (\"面積は\", region.area,\"pxです。\")\n",
        "    print (\"最大明るさは\",region.max_intensity,\"pxです。\")\n",
        "    print (\"平均明るさは\",region.mean_intensity,\"pxです。\")\n",
        "\n",
        "print (\"__________\")\n",
        "\n",
        "#ちなみにwhileを使用した場合。\n",
        "i = 0\n",
        "while i < len(regionprops):\n",
        "    print (\"面積は\", regionprops[i].area,\"pxです。\")\n",
        "    i += 1\n"
      ],
      "execution_count": 0,
      "outputs": [
        {
          "output_type": "stream",
          "text": [
            "面積は 439 pxです。\n",
            "最大明るさは 0.808110980392 pxです。\n",
            "平均明るさは 0.623511245701 pxです。\n",
            "__________\n",
            "面積は 439 pxです。\n"
          ],
          "name": "stdout"
        }
      ]
    },
    {
      "metadata": {
        "scrolled": true,
        "id": "fcRiwOLzE2B_",
        "colab_type": "code",
        "colab": {},
        "outputId": "9dea9fb6-bb5b-4ebe-e969-f02776f45e5d"
      },
      "cell_type": "code",
      "source": [
        "#ここまでの処理を関数にまとめてみましょう。\n",
        "#画像のパスを入れると測定結果を出力してくれる関数です。\n",
        "\n",
        "def quantify(path_of_image):\n",
        "    print (\"input is\", path_of_image)\n",
        "    image = imread(path_of_image)\n",
        "    gray = rgb2gray(image)\n",
        "    threshold = threshold_otsu(gray)\n",
        "    binary = gray > threshold\n",
        "    label_im, nb_labels = ndimage.label(binary)\n",
        "    regionprops = measure.regionprops(label_im, intensity_image=gray)\n",
        "    for region in regionprops:\n",
        "        threshold = 50\n",
        "        if region.area > threshold: #ifを出力するか否かに組み込むことができます。thresholdの値を500にして結果がどうかわるか見てみましょう。\n",
        "            print (\"\\t area is\", region.area) #\\tはタブとして扱われます。windowsの人は¥tでないとただしく反映されない可能性があります。\n",
        "            print (\"\\t max intensity is\", region.max_intensity)\n",
        "            print (\"\\t average intensity is\", region.mean_intensity)\n",
        "        else:\n",
        "            print (\"\\t object area bellow the threshold value of\", region.area)\n",
        "\n",
        "quantify(\"image/train/proper/11.jpg\")\n",
        "quantify(\"image/train/proper/12.jpg\")"
      ],
      "execution_count": 0,
      "outputs": [
        {
          "output_type": "stream",
          "text": [
            "input is image/train/proper/11.jpg\n",
            "\t area is 439\n",
            "\t max intensity is 0.808110980392\n",
            "\t average intensity is 0.623511245701\n",
            "input is image/train/proper/12.jpg\n",
            "\t area is 498\n",
            "\t max intensity is 0.836878431373\n",
            "\t average intensity is 0.639618940074\n"
          ],
          "name": "stdout"
        }
      ]
    },
    {
      "metadata": {
        "scrolled": true,
        "id": "gxkEZChgE2CB",
        "colab_type": "code",
        "colab": {},
        "outputId": "d52dcc26-dfe5-45e7-b11c-e59bd3d20994"
      },
      "cell_type": "code",
      "source": [
        "#image/proper_trainフォルダに入っている画像全てを処理できるようにしましょう。\n",
        "#フォルダ内のtifを\n",
        "def get_file_list_in_folder(directory):\n",
        "    files=[] #空のリストを用意します。\n",
        "    if os.path.isdir(directory): #もしdirectoryがディレクトリであれば\n",
        "        for file in os.listdir(directory): #ディレクトリ内のファイルを１つ１つスキャンする\n",
        "            if file.endswith(\".jpg\"): #jpgのみ取得する\n",
        "                files.append(os.path.join(directory,file))  #リストに追加する\n",
        "        return files\n",
        "    else:\n",
        "        print (\"not a valid directory!\")\n",
        "        \n",
        "files = get_file_list_in_folder(\"image/train/proper\")\n",
        "print (files) #これでproper_trainフォルダ内の写真のパスが得られました。"
      ],
      "execution_count": 0,
      "outputs": [
        {
          "output_type": "stream",
          "text": [
            "['image/train/proper/100.jpg', 'image/train/proper/101.jpg', 'image/train/proper/102.jpg', 'image/train/proper/103.jpg', 'image/train/proper/104.jpg', 'image/train/proper/105.jpg', 'image/train/proper/106.jpg', 'image/train/proper/107.jpg', 'image/train/proper/108.jpg', 'image/train/proper/109.jpg', 'image/train/proper/11.jpg', 'image/train/proper/110.jpg', 'image/train/proper/111.jpg', 'image/train/proper/112.jpg', 'image/train/proper/113.jpg', 'image/train/proper/114.jpg', 'image/train/proper/115.jpg', 'image/train/proper/116.jpg', 'image/train/proper/117.jpg', 'image/train/proper/118.jpg', 'image/train/proper/119.jpg', 'image/train/proper/12.jpg', 'image/train/proper/120.jpg', 'image/train/proper/121.jpg', 'image/train/proper/122.jpg', 'image/train/proper/123.jpg', 'image/train/proper/124.jpg', 'image/train/proper/125.jpg', 'image/train/proper/126.jpg', 'image/train/proper/127.jpg', 'image/train/proper/128.jpg', 'image/train/proper/129.jpg', 'image/train/proper/13.jpg', 'image/train/proper/130.jpg', 'image/train/proper/131.jpg', 'image/train/proper/132.jpg', 'image/train/proper/133.jpg', 'image/train/proper/134.jpg', 'image/train/proper/135.jpg', 'image/train/proper/136.jpg', 'image/train/proper/137.jpg', 'image/train/proper/138.jpg', 'image/train/proper/139.jpg', 'image/train/proper/14.jpg', 'image/train/proper/140.jpg', 'image/train/proper/143.jpg', 'image/train/proper/148.jpg', 'image/train/proper/149.jpg', 'image/train/proper/15.jpg', 'image/train/proper/151.jpg', 'image/train/proper/153.jpg', 'image/train/proper/154.jpg', 'image/train/proper/16.jpg', 'image/train/proper/17.jpg', 'image/train/proper/18.jpg', 'image/train/proper/181.jpg', 'image/train/proper/183.jpg', 'image/train/proper/187.jpg', 'image/train/proper/188.jpg', 'image/train/proper/19.jpg', 'image/train/proper/190.jpg', 'image/train/proper/192.jpg', 'image/train/proper/193.jpg', 'image/train/proper/197.jpg', 'image/train/proper/198.jpg', 'image/train/proper/20.jpg', 'image/train/proper/200.jpg', 'image/train/proper/21.jpg', 'image/train/proper/22.jpg', 'image/train/proper/23.jpg', 'image/train/proper/24.jpg', 'image/train/proper/25.jpg', 'image/train/proper/26.jpg', 'image/train/proper/27.jpg', 'image/train/proper/28.jpg', 'image/train/proper/29.jpg', 'image/train/proper/30.jpg', 'image/train/proper/31.jpg', 'image/train/proper/32.jpg', 'image/train/proper/33.jpg', 'image/train/proper/34.jpg', 'image/train/proper/35.jpg', 'image/train/proper/36.jpg', 'image/train/proper/37.jpg', 'image/train/proper/38.jpg', 'image/train/proper/39.jpg', 'image/train/proper/40.jpg', 'image/train/proper/41.jpg', 'image/train/proper/42.jpg', 'image/train/proper/43.jpg', 'image/train/proper/44.jpg', 'image/train/proper/45.jpg', 'image/train/proper/46.jpg', 'image/train/proper/47.jpg', 'image/train/proper/48.jpg', 'image/train/proper/49.jpg', 'image/train/proper/50.jpg', 'image/train/proper/51.jpg', 'image/train/proper/52.jpg', 'image/train/proper/53.jpg', 'image/train/proper/54.jpg', 'image/train/proper/55.jpg', 'image/train/proper/56.jpg', 'image/train/proper/57.jpg', 'image/train/proper/58.jpg', 'image/train/proper/59.jpg', 'image/train/proper/60.jpg', 'image/train/proper/61.jpg', 'image/train/proper/62.jpg', 'image/train/proper/63.jpg', 'image/train/proper/64.jpg', 'image/train/proper/65.jpg', 'image/train/proper/66.jpg', 'image/train/proper/67.jpg', 'image/train/proper/68.jpg', 'image/train/proper/69.jpg', 'image/train/proper/70.jpg', 'image/train/proper/71.jpg', 'image/train/proper/72.jpg', 'image/train/proper/73.jpg', 'image/train/proper/74.jpg', 'image/train/proper/75.jpg', 'image/train/proper/76.jpg', 'image/train/proper/77.jpg', 'image/train/proper/78.jpg', 'image/train/proper/79.jpg', 'image/train/proper/80.jpg', 'image/train/proper/81.jpg', 'image/train/proper/82.jpg', 'image/train/proper/83.jpg', 'image/train/proper/84.jpg', 'image/train/proper/85.jpg', 'image/train/proper/86.jpg', 'image/train/proper/87.jpg', 'image/train/proper/88.jpg', 'image/train/proper/89.jpg', 'image/train/proper/90.jpg', 'image/train/proper/91.jpg', 'image/train/proper/92.jpg', 'image/train/proper/93.jpg', 'image/train/proper/94.jpg', 'image/train/proper/95.jpg', 'image/train/proper/96.jpg', 'image/train/proper/97.jpg', 'image/train/proper/98.jpg', 'image/train/proper/99.jpg']\n"
          ],
          "name": "stdout"
        }
      ]
    },
    {
      "metadata": {
        "id": "BM-B4WFcE2CC",
        "colab_type": "code",
        "colab": {},
        "outputId": "a0968e80-b178-4788-e2c4-51e382f7eee5"
      },
      "cell_type": "code",
      "source": [
        "#filesの中身を順番にquantify関数にかけます。\n",
        "for file in files:\n",
        "    quantify(file)"
      ],
      "execution_count": 0,
      "outputs": [
        {
          "output_type": "stream",
          "text": [
            "input is image/train/proper/100.jpg\n",
            "\t area is 467\n",
            "\t max intensity is 0.838374509804\n",
            "\t average intensity is 0.683414760045\n",
            "input is image/train/proper/101.jpg\n",
            "\t area is 475\n",
            "\t max intensity is 0.91597254902\n",
            "\t average intensity is 0.729079247059\n",
            "input is image/train/proper/102.jpg\n",
            "\t area is 458\n",
            "\t max intensity is 0.882620784314\n",
            "\t average intensity is 0.734230063362\n",
            "input is image/train/proper/103.jpg\n",
            "\t area is 475\n",
            "\t max intensity is 0.935007843137\n",
            "\t average intensity is 0.720269252425\n",
            "input is image/train/proper/104.jpg\n",
            "\t area is 443\n",
            "\t max intensity is 0.915385098039\n",
            "\t average intensity is 0.73091520648\n",
            "input is image/train/proper/105.jpg\n",
            "\t area is 485\n",
            "\t max intensity is 0.901663137255\n",
            "\t average intensity is 0.736766806549\n",
            "input is image/train/proper/106.jpg\n",
            "\t area is 487\n",
            "\t max intensity is 0.875596078431\n",
            "\t average intensity is 0.743889451222\n",
            "input is image/train/proper/107.jpg\n",
            "\t area is 488\n",
            "\t max intensity is 0.899988627451\n",
            "\t average intensity is 0.740353670845\n",
            "input is image/train/proper/108.jpg\n",
            "\t area is 454\n",
            "\t max intensity is 0.914811764706\n",
            "\t average intensity is 0.757533703896\n",
            "input is image/train/proper/109.jpg\n",
            "\t area is 481\n",
            "\t max intensity is 0.913993333333\n",
            "\t average intensity is 0.761869031837\n",
            "input is image/train/proper/11.jpg\n",
            "\t area is 439\n",
            "\t max intensity is 0.808110980392\n",
            "\t average intensity is 0.623511245701\n",
            "input is image/train/proper/110.jpg\n",
            "\t area is 468\n",
            "\t max intensity is 0.893537254902\n",
            "\t average intensity is 0.683086488185\n",
            "input is image/train/proper/111.jpg\n",
            "\t area is 404\n",
            "\t max intensity is 0.939725098039\n",
            "\t average intensity is 0.781970290235\n",
            "input is image/train/proper/112.jpg\n",
            "\t area is 469\n",
            "\t max intensity is 0.893812156863\n",
            "\t average intensity is 0.755519250805\n",
            "input is image/train/proper/113.jpg\n",
            "\t area is 430\n",
            "\t max intensity is 0.880157647059\n",
            "\t average intensity is 0.750499774738\n",
            "input is image/train/proper/114.jpg\n",
            "\t area is 420\n",
            "\t max intensity is 0.909238431373\n",
            "\t average intensity is 0.742898791783\n",
            "input is image/train/proper/115.jpg\n",
            "\t area is 431\n",
            "\t max intensity is 0.864865098039\n",
            "\t average intensity is 0.734156654383\n",
            "input is image/train/proper/116.jpg\n",
            "\t area is 469\n",
            "\t max intensity is 0.941697254902\n",
            "\t average intensity is 0.760582284376\n",
            "input is image/train/proper/117.jpg\n",
            "\t area is 378\n",
            "\t max intensity is 0.842787058824\n",
            "\t average intensity is 0.687536430128\n",
            "input is image/train/proper/118.jpg\n",
            "\t area is 458\n",
            "\t max intensity is 0.861308627451\n",
            "\t average intensity is 0.687767736108\n",
            "input is image/train/proper/119.jpg\n",
            "\t area is 457\n",
            "\t max intensity is 0.913993333333\n",
            "\t average intensity is 0.742038647617\n",
            "input is image/train/proper/12.jpg\n",
            "\t area is 498\n",
            "\t max intensity is 0.836878431373\n",
            "\t average intensity is 0.639618940074\n",
            "input is image/train/proper/120.jpg\n",
            "\t area is 472\n",
            "\t max intensity is 0.89266627451\n",
            "\t average intensity is 0.768397222499\n",
            "input is image/train/proper/121.jpg\n",
            "\t area is 471\n",
            "\t max intensity is 0.953209019608\n",
            "\t average intensity is 0.768520310562\n",
            "input is image/train/proper/122.jpg\n",
            "\t area is 492\n",
            "\t max intensity is 0.837779215686\n",
            "\t average intensity is 0.688761983899\n",
            "input is image/train/proper/123.jpg\n",
            "\t area is 426\n",
            "\t max intensity is 0.888521568627\n",
            "\t average intensity is 0.746331810734\n",
            "input is image/train/proper/124.jpg\n",
            "\t area is 466\n",
            "\t max intensity is 0.886214117647\n",
            "\t average intensity is 0.748848226037\n",
            "input is image/train/proper/125.jpg\n",
            "\t area is 473\n",
            "\t max intensity is 0.90836745098\n",
            "\t average intensity is 0.744655924222\n",
            "input is image/train/proper/126.jpg\n",
            "\t area is 442\n",
            "\t max intensity is 0.910890196078\n",
            "\t average intensity is 0.740058171413\n",
            "input is image/train/proper/127.jpg\n",
            "\t area is 474\n",
            "\t max intensity is 0.880901568627\n",
            "\t average intensity is 0.744901139241\n",
            "input is image/train/proper/128.jpg\n",
            "\t area is 473\n",
            "\t max intensity is 0.962443921569\n",
            "\t average intensity is 0.758079071426\n",
            "input is image/train/proper/129.jpg\n",
            "\t area is 461\n",
            "\t max intensity is 0.897108627451\n",
            "\t average intensity is 0.770478286759\n",
            "input is image/train/proper/13.jpg\n",
            "\t area is 416\n",
            "\t max intensity is 0.826885490196\n",
            "\t average intensity is 0.616040628771\n",
            "input is image/train/proper/130.jpg\n",
            "\t area is 477\n",
            "\t max intensity is 0.917081568627\n",
            "\t average intensity is 0.743753533933\n",
            "input is image/train/proper/131.jpg\n",
            "\t area is 480\n",
            "\t max intensity is 0.91758745098\n",
            "\t average intensity is 0.727653986928\n",
            "input is image/train/proper/132.jpg\n",
            "\t area is 489\n",
            "\t max intensity is 0.942850980392\n",
            "\t average intensity is 0.78166474598\n",
            "input is image/train/proper/133.jpg\n",
            "\t area is 429\n",
            "\t max intensity is 0.924909803922\n",
            "\t average intensity is 0.736238417661\n",
            "input is image/train/proper/134.jpg\n",
            "\t area is 479\n",
            "\t max intensity is 0.843360392157\n",
            "\t average intensity is 0.672292105285\n",
            "input is image/train/proper/135.jpg\n",
            "\t area is 438\n",
            "\t max intensity is 0.905279215686\n",
            "\t average intensity is 0.760915350524\n",
            "input is image/train/proper/136.jpg\n",
            "\t area is 489\n",
            "\t max intensity is 0.825136470588\n",
            "\t average intensity is 0.689877823489\n",
            "input is image/train/proper/137.jpg\n",
            "\t area is 433\n",
            "\t max intensity is 0.947612941176\n",
            "\t average intensity is 0.702475660916\n",
            "input is image/train/proper/138.jpg\n",
            "\t area is 479\n",
            "\t max intensity is 0.846455686275\n",
            "\t average intensity is 0.683049401122\n",
            "input is image/train/proper/139.jpg\n",
            "\t area is 481\n",
            "\t max intensity is 0.866621960784\n",
            "\t average intensity is 0.742175116383\n",
            "input is image/train/proper/14.jpg\n",
            "\t area is 493\n",
            "\t max intensity is 0.842571764706\n",
            "\t average intensity is 0.665143002824\n",
            "input is image/train/proper/140.jpg\n",
            "\t area is 430\n",
            "\t max intensity is 0.862960392157\n",
            "\t average intensity is 0.672942677611\n",
            "input is image/train/proper/143.jpg\n",
            "\t area is 463\n",
            "\t max intensity is 0.79802\n",
            "\t average intensity is 0.665505586753\n",
            "input is image/train/proper/148.jpg\n",
            "\t area is 473\n",
            "\t max intensity is 0.759868627451\n",
            "\t average intensity is 0.627132487667\n",
            "input is image/train/proper/149.jpg\n",
            "\t area is 422\n",
            "\t max intensity is 0.783427843137\n",
            "\t average intensity is 0.619770044606\n",
            "input is image/train/proper/15.jpg\n",
            "\t area is 497\n",
            "\t max intensity is 0.828016470588\n",
            "\t average intensity is 0.647305450744\n",
            "input is image/train/proper/151.jpg\n",
            "\t area is 489\n",
            "\t max intensity is 0.813714117647\n",
            "\t average intensity is 0.587284434821\n",
            "input is image/train/proper/153.jpg\n",
            "\t area is 458\n",
            "\t max intensity is 0.748721960784\n",
            "\t average intensity is 0.61400646802\n",
            "input is image/train/proper/154.jpg\n",
            "\t area is 436\n",
            "\t max intensity is 0.865825490196\n",
            "\t average intensity is 0.641622686634\n",
            "input is image/train/proper/16.jpg\n",
            "\t area is 364\n",
            "\t max intensity is 0.818974117647\n",
            "\t average intensity is 0.682127347554\n",
            "input is image/train/proper/17.jpg\n",
            "\t area is 477\n",
            "\t max intensity is 0.870811372549\n",
            "\t average intensity is 0.661199013442\n",
            "input is image/train/proper/18.jpg\n",
            "\t area is 449\n",
            "\t max intensity is 0.890716862745\n",
            "\t average intensity is 0.681835298485\n",
            "input is image/train/proper/181.jpg\n",
            "\t area is 476\n",
            "\t max intensity is 0.90835254902\n",
            "\t average intensity is 0.703059532872\n",
            "input is image/train/proper/183.jpg\n",
            "\t area is 449\n",
            "\t max intensity is 0.909223529412\n",
            "\t average intensity is 0.728887781126\n",
            "input is image/train/proper/187.jpg\n",
            "\t area is 488\n",
            "\t max intensity is 0.867752941176\n",
            "\t average intensity is 0.69140604468\n",
            "input is image/train/proper/188.jpg\n",
            "\t area is 493\n",
            "\t max intensity is 0.826885490196\n",
            "\t average intensity is 0.680652420157\n",
            "input is image/train/proper/19.jpg\n",
            "\t area is 509\n",
            "\t max intensity is 0.826870588235\n",
            "\t average intensity is 0.624105833044\n",
            "input is image/train/proper/190.jpg\n",
            "\t area is 502\n",
            "\t max intensity is 0.877850980392\n",
            "\t average intensity is 0.670473721584\n",
            "input is image/train/proper/192.jpg\n",
            "\t area is 475\n",
            "\t max intensity is 0.834996470588\n",
            "\t average intensity is 0.684942937461\n",
            "input is image/train/proper/193.jpg\n",
            "\t area is 469\n",
            "\t max intensity is 0.875030588235\n",
            "\t average intensity is 0.705146022827\n",
            "input is image/train/proper/197.jpg\n",
            "\t area is 490\n",
            "\t max intensity is 0.805015686275\n",
            "\t average intensity is 0.650349238095\n",
            "input is image/train/proper/198.jpg\n",
            "\t area is 459\n",
            "\t max intensity is 0.899698823529\n",
            "\t average intensity is 0.712966909308\n",
            "input is image/train/proper/20.jpg\n",
            "\t area is 428\n",
            "\t max intensity is 0.824050196078\n",
            "\t average intensity is 0.608690984973\n",
            "input is image/train/proper/200.jpg\n",
            "\t area is 459\n",
            "\t max intensity is 0.905882352941\n",
            "\t average intensity is 0.710863496091\n",
            "input is image/train/proper/21.jpg\n",
            "\t area is 456\n",
            "\t max intensity is 0.791270980392\n",
            "\t average intensity is 0.625286946164\n",
            "input is image/train/proper/22.jpg\n",
            "\t area is 437\n",
            "\t max intensity is 0.837243529412\n",
            "\t average intensity is 0.637869081527\n",
            "input is image/train/proper/23.jpg\n",
            "\t area is 466\n",
            "\t max intensity is 0.760724705882\n",
            "\t average intensity is 0.616530713625\n",
            "input is image/train/proper/24.jpg\n",
            "\t area is 420\n",
            "\t max intensity is 0.911410980392\n",
            "\t average intensity is 0.680272789916\n",
            "input is image/train/proper/25.jpg\n",
            "\t area is 503\n",
            "\t max intensity is 0.753982745098\n",
            "\t average intensity is 0.642286694734\n",
            "input is image/train/proper/26.jpg\n",
            "\t area is 507\n",
            "\t max intensity is 0.804710196078\n",
            "\t average intensity is 0.641274668368\n",
            "input is image/train/proper/27.jpg\n",
            "\t area is 489\n",
            "\t max intensity is 0.814249803922\n",
            "\t average intensity is 0.622950498416\n",
            "input is image/train/proper/28.jpg\n",
            "\t area is 480\n",
            "\t max intensity is 0.906968627451\n",
            "\t average intensity is 0.679713730392\n",
            "input is image/train/proper/29.jpg\n",
            "\t area is 427\n",
            "\t max intensity is 0.796599215686\n",
            "\t average intensity is 0.615790478946\n",
            "input is image/train/proper/30.jpg\n",
            "\t area is 453\n",
            "\t max intensity is 0.873073333333\n",
            "\t average intensity is 0.632283563174\n",
            "input is image/train/proper/31.jpg\n",
            "\t area is 477\n",
            "\t max intensity is 0.850109411765\n",
            "\t average intensity is 0.614265398939\n",
            "input is image/train/proper/32.jpg\n",
            "\t area is 447\n",
            "\t max intensity is 0.762391372549\n",
            "\t average intensity is 0.630228857306\n",
            "input is image/train/proper/33.jpg\n",
            "\t area is 426\n",
            "\t max intensity is 0.76100745098\n",
            "\t average intensity is 0.614546616957\n",
            "input is image/train/proper/34.jpg\n",
            "\t area is 406\n",
            "\t max intensity is 0.890984705882\n",
            "\t average intensity is 0.675370528349\n",
            "input is image/train/proper/35.jpg\n",
            "\t area is 461\n",
            "\t max intensity is 0.851248235294\n",
            "\t average intensity is 0.652905421292\n",
            "input is image/train/proper/36.jpg\n",
            "\t area is 459\n",
            "\t max intensity is 0.786798823529\n",
            "\t average intensity is 0.629368444615\n",
            "input is image/train/proper/37.jpg\n",
            "\t area is 381\n",
            "\t max intensity is 0.808937254902\n",
            "\t average intensity is 0.653927249241\n",
            "input is image/train/proper/38.jpg\n",
            "\t area is 422\n",
            "\t max intensity is 0.820083921569\n",
            "\t average intensity is 0.688604310008\n",
            "input is image/train/proper/39.jpg\n",
            "\t area is 503\n",
            "\t max intensity is 0.840257254902\n",
            "\t average intensity is 0.679364482127\n",
            "input is image/train/proper/40.jpg\n",
            "\t area is 452\n",
            "\t max intensity is 0.830456862745\n",
            "\t average intensity is 0.656488357626\n",
            "input is image/train/proper/41.jpg\n",
            "\t area is 432\n",
            "\t max intensity is 0.799702352941\n",
            "\t average intensity is 0.644846446986\n",
            "input is image/train/proper/42.jpg\n",
            "\t area is 477\n",
            "\t max intensity is 0.775034117647\n",
            "\t average intensity is 0.614584936079\n",
            "input is image/train/proper/43.jpg\n",
            "\t area is 410\n",
            "\t max intensity is 0.909498431373\n",
            "\t average intensity is 0.692537109517\n",
            "input is image/train/proper/44.jpg\n",
            "\t area is 422\n",
            "\t max intensity is 0.876459215686\n",
            "\t average intensity is 0.714894060032\n",
            "input is image/train/proper/45.jpg\n",
            "\t area is 484\n",
            "\t max intensity is 0.781478431373\n",
            "\t average intensity is 0.629643347107\n",
            "input is image/train/proper/46.jpg\n",
            "\t area is 502\n",
            "\t max intensity is 0.792424705882\n",
            "\t average intensity is 0.634831543629\n",
            "input is image/train/proper/47.jpg\n",
            "\t area is 439\n",
            "\t max intensity is 0.887360784314\n",
            "\t average intensity is 0.695205156997\n",
            "input is image/train/proper/48.jpg\n",
            "\t area is 495\n",
            "\t max intensity is 0.863831372549\n",
            "\t average intensity is 0.636969793622\n",
            "input is image/train/proper/49.jpg\n",
            "\t area is 455\n",
            "\t max intensity is 0.804963137255\n",
            "\t average intensity is 0.622407433743\n",
            "input is image/train/proper/50.jpg\n",
            "\t area is 477\n",
            "\t max intensity is 0.828239607843\n",
            "\t average intensity is 0.664982121922\n",
            "input is image/train/proper/51.jpg\n",
            "\t area is 434\n",
            "\t max intensity is 0.830144313725\n",
            "\t average intensity is 0.66399128219\n",
            "input is image/train/proper/52.jpg\n",
            "\t area is 465\n",
            "\t max intensity is 0.812553333333\n",
            "\t average intensity is 0.698206668353\n",
            "input is image/train/proper/53.jpg\n",
            "\t area is 455\n",
            "\t max intensity is 0.765494509804\n",
            "\t average intensity is 0.619170795949\n",
            "input is image/train/proper/54.jpg\n",
            "\t area is 408\n",
            "\t max intensity is 0.838865490196\n",
            "\t average intensity is 0.715737920031\n",
            "input is image/train/proper/55.jpg\n",
            "\t area is 505\n",
            "\t max intensity is 0.859909803922\n",
            "\t average intensity is 0.636241547661\n",
            "input is image/train/proper/56.jpg\n",
            "\t area is 494\n",
            "\t max intensity is 0.822078039216\n",
            "\t average intensity is 0.635295859332\n",
            "input is image/train/proper/57.jpg\n",
            "\t area is 407\n",
            "\t max intensity is 0.825136470588\n",
            "\t average intensity is 0.681928660211\n",
            "input is image/train/proper/58.jpg\n",
            "\t area is 449\n",
            "\t max intensity is 0.885709019608\n",
            "\t average intensity is 0.668370225774\n",
            "input is image/train/proper/59.jpg\n",
            "\t area is 451\n",
            "\t max intensity is 0.815336078431\n",
            "\t average intensity is 0.692009700448\n",
            "input is image/train/proper/60.jpg\n",
            "\t area is 497\n",
            "\t max intensity is 0.77669372549\n",
            "\t average intensity is 0.621185591194\n",
            "input is image/train/proper/61.jpg\n",
            "\t area is 448\n",
            "\t max intensity is 0.803356078431\n",
            "\t average intensity is 0.634832212885\n",
            "input is image/train/proper/62.jpg\n",
            "\t area is 493\n",
            "\t max intensity is 0.815954117647\n",
            "\t average intensity is 0.619042071352\n",
            "input is image/train/proper/63.jpg\n",
            "\t area is 356\n",
            "\t max intensity is 0.857149019608\n",
            "\t average intensity is 0.661414951531\n",
            "input is image/train/proper/64.jpg\n",
            "\t area is 461\n",
            "\t max intensity is 0.812850980392\n",
            "\t average intensity is 0.612523730169\n",
            "input is image/train/proper/65.jpg\n",
            "\t area is 427\n",
            "\t max intensity is 0.901395294118\n",
            "\t average intensity is 0.720576858153\n",
            "input is image/train/proper/66.jpg\n",
            "\t area is 449\n",
            "\t max intensity is 0.797164705882\n",
            "\t average intensity is 0.611486044805\n",
            "input is image/train/proper/67.jpg\n",
            "\t area is 455\n",
            "\t max intensity is 0.78431372549\n",
            "\t average intensity is 0.617771745744\n",
            "input is image/train/proper/68.jpg\n",
            "\t area is 447\n",
            "\t max intensity is 0.803616078431\n",
            "\t average intensity is 0.649761934465\n",
            "input is image/train/proper/69.jpg\n",
            "\t area is 455\n",
            "\t max intensity is 0.752643529412\n",
            "\t average intensity is 0.605463863822\n",
            "input is image/train/proper/70.jpg\n",
            "\t area is 399\n",
            "\t max intensity is 0.80806627451\n",
            "\t average intensity is 0.660736608187\n",
            "input is image/train/proper/71.jpg\n",
            "\t area is 421\n",
            "\t max intensity is 0.884867843137\n",
            "\t average intensity is 0.748373480509\n",
            "input is image/train/proper/72.jpg\n",
            "\t area is 442\n",
            "\t max intensity is 0.827450980392\n",
            "\t average intensity is 0.625476270961\n",
            "input is image/train/proper/73.jpg\n",
            "\t area is 474\n",
            "\t max intensity is 0.845384313725\n",
            "\t average intensity is 0.724588921982\n",
            "input is image/train/proper/74.jpg\n",
            "\t area is 451\n",
            "\t max intensity is 0.847326666667\n",
            "\t average intensity is 0.649638958306\n",
            "input is image/train/proper/75.jpg\n",
            "\t area is 408\n",
            "\t max intensity is 0.767711764706\n",
            "\t average intensity is 0.631121437908\n",
            "input is image/train/proper/76.jpg\n",
            "\t area is 497\n",
            "\t max intensity is 0.782051764706\n",
            "\t average intensity is 0.599135252298\n",
            "input is image/train/proper/77.jpg\n",
            "\t area is 453\n",
            "\t max intensity is 0.771142352941\n",
            "\t average intensity is 0.575832848548\n",
            "input is image/train/proper/78.jpg\n",
            "\t area is 446\n",
            "\t max intensity is 0.819563137255\n",
            "\t average intensity is 0.618987809725\n",
            "input is image/train/proper/79.jpg\n",
            "\t area is 431\n",
            "\t max intensity is 0.903054901961\n",
            "\t average intensity is 0.709635689004\n",
            "input is image/train/proper/80.jpg\n",
            "\t area is 452\n",
            "\t max intensity is 0.787669803922\n",
            "\t average intensity is 0.621390992539\n",
            "input is image/train/proper/81.jpg\n",
            "\t area is 452\n",
            "\t max intensity is 0.756818039216\n",
            "\t average intensity is 0.58604499653\n",
            "input is image/train/proper/82.jpg\n",
            "\t area is 453\n",
            "\t max intensity is 0.859344313725\n",
            "\t average intensity is 0.619437401203\n",
            "input is image/train/proper/83.jpg\n",
            "\t area is 473\n",
            "\t max intensity is 0.862394901961\n",
            "\t average intensity is 0.693700692285\n",
            "input is image/train/proper/84.jpg\n",
            "\t area is 461\n",
            "\t max intensity is 0.784016078431\n",
            "\t average intensity is 0.607512621326\n",
            "input is image/train/proper/85.jpg\n",
            "\t area is 417\n",
            "\t max intensity is 0.782907058824\n",
            "\t average intensity is 0.616400597169\n",
            "input is image/train/proper/86.jpg\n",
            "\t area is 379\n",
            "\t max intensity is 0.79629372549\n",
            "\t average intensity is 0.679903766361\n",
            "input is image/train/proper/87.jpg\n",
            "\t area is 463\n",
            "\t max intensity is 0.767220784314\n",
            "\t average intensity is 0.572372423665\n",
            "input is image/train/proper/88.jpg\n",
            "\t area is 464\n",
            "\t max intensity is 0.801949411765\n",
            "\t average intensity is 0.637064524172\n",
            "input is image/train/proper/89.jpg\n",
            "\t area is 382\n",
            "\t max intensity is 0.817293333333\n",
            "\t average intensity is 0.667361307874\n",
            "input is image/train/proper/90.jpg\n",
            "\t area is 456\n",
            "\t max intensity is 0.813424313725\n",
            "\t average intensity is 0.623826164431\n",
            "input is image/train/proper/91.jpg\n",
            "\t area is 437\n",
            "\t max intensity is 0.808363921569\n",
            "\t average intensity is 0.607927383677\n",
            "input is image/train/proper/92.jpg\n",
            "\t area is 418\n",
            "\t max intensity is 0.779476470588\n",
            "\t average intensity is 0.598974725584\n",
            "input is image/train/proper/93.jpg\n",
            "\t area is 452\n",
            "\t max intensity is 0.866316470588\n",
            "\t average intensity is 0.729393839146\n",
            "input is image/train/proper/94.jpg\n",
            "\t area is 428\n",
            "\t max intensity is 0.815954117647\n",
            "\t average intensity is 0.622377884369\n",
            "input is image/train/proper/95.jpg\n",
            "\t area is 462\n",
            "\t max intensity is 0.731361176471\n",
            "\t average intensity is 0.580107932264\n",
            "input is image/train/proper/96.jpg\n",
            "\t area is 425\n",
            "\t max intensity is 0.789321568627\n",
            "\t average intensity is 0.583410199769\n",
            "input is image/train/proper/97.jpg\n",
            "\t area is 455\n",
            "\t max intensity is 0.800215294118\n",
            "\t average intensity is 0.583232239604\n",
            "input is image/train/proper/98.jpg\n",
            "\t area is 439\n",
            "\t max intensity is 0.737522745098\n",
            "\t average intensity is 0.560163571397\n",
            "input is image/train/proper/99.jpg\n",
            "\t area is 460\n",
            "\t max intensity is 0.868616078431\n",
            "\t average intensity is 0.715149971867\n"
          ],
          "name": "stdout"
        }
      ]
    },
    {
      "metadata": {
        "id": "OyBq59cXE2CD",
        "colab_type": "code",
        "colab": {}
      },
      "cell_type": "code",
      "source": [
        "#このまま結果をコピペして保存してもよいのですが、\n",
        "#せっかくなのでcsvファイルに書き出せるように関数をいじります。\n",
        "\n",
        "def quantify_csv(path_of_image):\n",
        "    print (\"input is\", path_of_image)\n",
        "    image = imread(path_of_image)\n",
        "    gray = rgb2gray(image)\n",
        "    threshold = threshold_otsu(gray)\n",
        "    binary = gray > threshold\n",
        "    label_im, nb_labels = ndimage.label(binary)\n",
        "    regionprops = measure.regionprops(label_im, intensity_image=gray)\n",
        "    \n",
        "    if len(regionprops)==1: #領域が一つだけの場合、測定領域を戻り値として設定する\n",
        "        return regionprops[0].area,regionprops[0].max_intensity,regionprops[0].major_axis_length,regionprops[0].mean_intensity\n",
        "    else:\n",
        "        print (\"more than two region detected. ignoring this image file\")\n",
        "        return 0,0,0,0"
      ],
      "execution_count": 0,
      "outputs": []
    },
    {
      "metadata": {
        "scrolled": true,
        "id": "kAcchGw6E2CE",
        "colab_type": "code",
        "colab": {},
        "outputId": "368f09f3-8e24-4667-fae1-d0b6b1c881de"
      },
      "cell_type": "code",
      "source": [
        "#csvに書き込むコマンド\n",
        "csv = open(\"output.csv\", 'a+')#a+は追記モードです。\n",
        "csv.write(\"Grain_type,Area,Max_intensity,Major_axis_length,Average_intensity\\n\") #headerを記入します。\n",
        "#注意。mac os9より古い人は\\r、windowsは\\r\\n、macosx、linuxは\\nに上記文末を変更。\n",
        "#osによって使用する改行コードが異なるためです。\n",
        "\n",
        "\n",
        "files = get_file_list_in_folder(\"image/train/proper\")\n",
        "for file in files:\n",
        "    area, max_intensity, major_axis_length, mean_intensity = quantify_csv(file)\n",
        "    if area != 0:#areaが0ではないとき、以下の処理を行う。\n",
        "        s=\",\".join([\"1\",str(area),str(max_intensity),str(major_axis_length),str(mean_intensity)+\"\\n\"])\n",
        "        #カンマ区切りで連結する。数字と文字は連結できないので、数字を文字変換するstr()\n",
        "        #改行コードの変更忘れずに\n",
        "        csv.write(s)\n",
        "\n",
        "csv.close()"
      ],
      "execution_count": 0,
      "outputs": [
        {
          "output_type": "stream",
          "text": [
            "input is image/train/proper/100.jpg\n",
            "input is image/train/proper/101.jpg\n",
            "input is image/train/proper/102.jpg\n",
            "input is image/train/proper/103.jpg\n",
            "input is image/train/proper/104.jpg\n",
            "input is image/train/proper/105.jpg\n",
            "input is image/train/proper/106.jpg\n",
            "input is image/train/proper/107.jpg\n",
            "input is image/train/proper/108.jpg\n",
            "input is image/train/proper/109.jpg\n",
            "input is image/train/proper/11.jpg\n",
            "input is image/train/proper/110.jpg\n",
            "input is image/train/proper/111.jpg\n",
            "input is image/train/proper/112.jpg\n",
            "input is image/train/proper/113.jpg\n",
            "input is image/train/proper/114.jpg\n",
            "input is image/train/proper/115.jpg\n",
            "input is image/train/proper/116.jpg\n",
            "input is image/train/proper/117.jpg\n",
            "input is image/train/proper/118.jpg\n",
            "input is image/train/proper/119.jpg\n",
            "input is image/train/proper/12.jpg\n",
            "input is image/train/proper/120.jpg\n",
            "input is image/train/proper/121.jpg\n",
            "input is image/train/proper/122.jpg\n",
            "input is image/train/proper/123.jpg\n",
            "input is image/train/proper/124.jpg\n",
            "input is image/train/proper/125.jpg\n",
            "input is image/train/proper/126.jpg\n",
            "input is image/train/proper/127.jpg\n",
            "input is image/train/proper/128.jpg\n",
            "input is image/train/proper/129.jpg\n",
            "input is image/train/proper/13.jpg\n",
            "input is image/train/proper/130.jpg\n",
            "input is image/train/proper/131.jpg\n",
            "input is image/train/proper/132.jpg\n",
            "input is image/train/proper/133.jpg\n",
            "input is image/train/proper/134.jpg\n",
            "input is image/train/proper/135.jpg\n",
            "input is image/train/proper/136.jpg\n",
            "input is image/train/proper/137.jpg\n",
            "input is image/train/proper/138.jpg\n",
            "input is image/train/proper/139.jpg\n",
            "input is image/train/proper/14.jpg\n",
            "input is image/train/proper/140.jpg\n",
            "input is image/train/proper/143.jpg\n",
            "input is image/train/proper/148.jpg\n",
            "input is image/train/proper/149.jpg\n",
            "input is image/train/proper/15.jpg\n",
            "input is image/train/proper/151.jpg\n",
            "input is image/train/proper/153.jpg\n",
            "input is image/train/proper/154.jpg\n",
            "input is image/train/proper/16.jpg\n",
            "input is image/train/proper/17.jpg\n",
            "input is image/train/proper/18.jpg\n",
            "input is image/train/proper/181.jpg\n",
            "input is image/train/proper/183.jpg\n",
            "input is image/train/proper/187.jpg\n",
            "input is image/train/proper/188.jpg\n",
            "input is image/train/proper/19.jpg\n",
            "input is image/train/proper/190.jpg\n",
            "input is image/train/proper/192.jpg\n",
            "input is image/train/proper/193.jpg\n",
            "input is image/train/proper/197.jpg\n",
            "input is image/train/proper/198.jpg\n",
            "input is image/train/proper/20.jpg\n",
            "input is image/train/proper/200.jpg\n",
            "input is image/train/proper/21.jpg\n",
            "input is image/train/proper/22.jpg\n",
            "input is image/train/proper/23.jpg\n",
            "input is image/train/proper/24.jpg\n",
            "input is image/train/proper/25.jpg\n",
            "input is image/train/proper/26.jpg\n",
            "input is image/train/proper/27.jpg\n",
            "input is image/train/proper/28.jpg\n",
            "input is image/train/proper/29.jpg\n",
            "input is image/train/proper/30.jpg\n",
            "input is image/train/proper/31.jpg\n",
            "input is image/train/proper/32.jpg\n",
            "input is image/train/proper/33.jpg\n",
            "input is image/train/proper/34.jpg\n",
            "input is image/train/proper/35.jpg\n",
            "input is image/train/proper/36.jpg\n",
            "input is image/train/proper/37.jpg\n",
            "input is image/train/proper/38.jpg\n",
            "input is image/train/proper/39.jpg\n",
            "input is image/train/proper/40.jpg\n",
            "input is image/train/proper/41.jpg\n",
            "input is image/train/proper/42.jpg\n",
            "input is image/train/proper/43.jpg\n",
            "input is image/train/proper/44.jpg\n",
            "input is image/train/proper/45.jpg\n",
            "input is image/train/proper/46.jpg\n",
            "input is image/train/proper/47.jpg\n",
            "input is image/train/proper/48.jpg\n",
            "input is image/train/proper/49.jpg\n",
            "input is image/train/proper/50.jpg\n",
            "input is image/train/proper/51.jpg\n",
            "input is image/train/proper/52.jpg\n",
            "input is image/train/proper/53.jpg\n",
            "input is image/train/proper/54.jpg\n",
            "input is image/train/proper/55.jpg\n",
            "input is image/train/proper/56.jpg\n",
            "input is image/train/proper/57.jpg\n",
            "input is image/train/proper/58.jpg\n",
            "input is image/train/proper/59.jpg\n",
            "input is image/train/proper/60.jpg\n",
            "input is image/train/proper/61.jpg\n",
            "input is image/train/proper/62.jpg\n",
            "input is image/train/proper/63.jpg\n",
            "input is image/train/proper/64.jpg\n",
            "input is image/train/proper/65.jpg\n",
            "input is image/train/proper/66.jpg\n",
            "input is image/train/proper/67.jpg\n",
            "input is image/train/proper/68.jpg\n",
            "input is image/train/proper/69.jpg\n",
            "input is image/train/proper/70.jpg\n",
            "input is image/train/proper/71.jpg\n",
            "input is image/train/proper/72.jpg\n",
            "input is image/train/proper/73.jpg\n",
            "input is image/train/proper/74.jpg\n",
            "input is image/train/proper/75.jpg\n",
            "input is image/train/proper/76.jpg\n",
            "input is image/train/proper/77.jpg\n",
            "input is image/train/proper/78.jpg\n",
            "input is image/train/proper/79.jpg\n",
            "input is image/train/proper/80.jpg\n",
            "input is image/train/proper/81.jpg\n",
            "input is image/train/proper/82.jpg\n",
            "input is image/train/proper/83.jpg\n",
            "input is image/train/proper/84.jpg\n",
            "input is image/train/proper/85.jpg\n",
            "input is image/train/proper/86.jpg\n",
            "input is image/train/proper/87.jpg\n",
            "input is image/train/proper/88.jpg\n",
            "input is image/train/proper/89.jpg\n",
            "input is image/train/proper/90.jpg\n",
            "input is image/train/proper/91.jpg\n",
            "input is image/train/proper/92.jpg\n",
            "input is image/train/proper/93.jpg\n",
            "input is image/train/proper/94.jpg\n",
            "input is image/train/proper/95.jpg\n",
            "input is image/train/proper/96.jpg\n",
            "input is image/train/proper/97.jpg\n",
            "input is image/train/proper/98.jpg\n",
            "input is image/train/proper/99.jpg\n"
          ],
          "name": "stdout"
        }
      ]
    },
    {
      "metadata": {
        "scrolled": true,
        "id": "xrWFBfVTE2CH",
        "colab_type": "code",
        "colab": {},
        "outputId": "170cc90d-d929-413c-d655-96ce45fed27e"
      },
      "cell_type": "code",
      "source": [
        "#次は割れ米のデータを取る\n",
        "csv = open(\"output.csv\", 'a+')#a+は追記モードです。\n",
        "\n",
        "files = get_file_list_in_folder(\"image/train/broken\")\n",
        "for file in files:\n",
        "    area, max_intensity, major_axis_length, mean_intensity = quantify_csv(file)\n",
        "    if area != 0: #areaが0ではないとき、以下の処理を行う。\n",
        "        #カンマ区切りで連結する。数字と文字は連結できないので、数字を文字変換するstr()\n",
        "        s=\",\".join([\"2\",str(area),str(max_intensity),str(major_axis_length),str(mean_intensity)+\"\\n\"]) #改行コードの変更忘れずに\n",
        "        csv.write(s)\n",
        "csv.close()\n"
      ],
      "execution_count": 0,
      "outputs": [
        {
          "output_type": "stream",
          "text": [
            "input is image/train/broken/141.jpg\n",
            "input is image/train/broken/142.jpg\n",
            "input is image/train/broken/144.jpg\n",
            "input is image/train/broken/145.jpg\n",
            "input is image/train/broken/147.jpg\n",
            "input is image/train/broken/150.jpg\n",
            "input is image/train/broken/152.jpg\n",
            "input is image/train/broken/155.jpg\n",
            "input is image/train/broken/156.jpg\n",
            "input is image/train/broken/158.jpg\n",
            "input is image/train/broken/160.jpg\n",
            "input is image/train/broken/161.jpg\n",
            "input is image/train/broken/162.jpg\n",
            "input is image/train/broken/164.jpg\n",
            "input is image/train/broken/165.jpg\n",
            "input is image/train/broken/166.jpg\n",
            "input is image/train/broken/167.jpg\n",
            "input is image/train/broken/168.jpg\n",
            "input is image/train/broken/169.jpg\n",
            "input is image/train/broken/170.jpg\n",
            "input is image/train/broken/171.jpg\n",
            "input is image/train/broken/172.jpg\n",
            "input is image/train/broken/173.jpg\n",
            "input is image/train/broken/174.jpg\n",
            "input is image/train/broken/175.jpg\n",
            "input is image/train/broken/176.jpg\n",
            "input is image/train/broken/177.jpg\n",
            "input is image/train/broken/178.jpg\n",
            "input is image/train/broken/179.jpg\n",
            "input is image/train/broken/180.jpg\n",
            "input is image/train/broken/182.jpg\n",
            "input is image/train/broken/184.jpg\n",
            "input is image/train/broken/185.jpg\n",
            "input is image/train/broken/186.jpg\n",
            "input is image/train/broken/189.jpg\n",
            "input is image/train/broken/191.jpg\n",
            "input is image/train/broken/194.jpg\n",
            "input is image/train/broken/195.jpg\n",
            "input is image/train/broken/196.jpg\n",
            "input is image/train/broken/199.jpg\n",
            "input is image/train/broken/201.jpg\n",
            "input is image/train/broken/202.jpg\n",
            "input is image/train/broken/203.jpg\n",
            "input is image/train/broken/204.jpg\n",
            "input is image/train/broken/205.jpg\n",
            "input is image/train/broken/206.jpg\n",
            "input is image/train/broken/207.jpg\n",
            "input is image/train/broken/208.jpg\n",
            "input is image/train/broken/209.jpg\n",
            "input is image/train/broken/210.jpg\n",
            "input is image/train/broken/211.jpg\n",
            "input is image/train/broken/212.jpg\n",
            "input is image/train/broken/213.jpg\n",
            "input is image/train/broken/214.jpg\n",
            "input is image/train/broken/215.jpg\n",
            "input is image/train/broken/216.jpg\n",
            "input is image/train/broken/217.jpg\n",
            "input is image/train/broken/218.jpg\n",
            "input is image/train/broken/219.jpg\n",
            "input is image/train/broken/220.jpg\n",
            "input is image/train/broken/221.jpg\n",
            "input is image/train/broken/222.jpg\n",
            "input is image/train/broken/223.jpg\n",
            "input is image/train/broken/224.jpg\n",
            "input is image/train/broken/225.jpg\n",
            "input is image/train/broken/226.jpg\n",
            "input is image/train/broken/227.jpg\n",
            "input is image/train/broken/228.jpg\n",
            "input is image/train/broken/229.jpg\n",
            "input is image/train/broken/230.jpg\n",
            "input is image/train/broken/231.jpg\n",
            "input is image/train/broken/232.jpg\n",
            "input is image/train/broken/233.jpg\n",
            "input is image/train/broken/234.jpg\n",
            "input is image/train/broken/244.jpg\n",
            "input is image/train/broken/245.jpg\n",
            "input is image/train/broken/246.jpg\n",
            "input is image/train/broken/247.jpg\n",
            "input is image/train/broken/248.jpg\n",
            "input is image/train/broken/249.jpg\n",
            "input is image/train/broken/250.jpg\n",
            "input is image/train/broken/251.jpg\n",
            "input is image/train/broken/252.jpg\n",
            "input is image/train/broken/253.jpg\n",
            "input is image/train/broken/254.jpg\n",
            "input is image/train/broken/255.jpg\n",
            "input is image/train/broken/256.jpg\n",
            "input is image/train/broken/257.jpg\n",
            "input is image/train/broken/258.jpg\n",
            "input is image/train/broken/259.jpg\n",
            "input is image/train/broken/260.jpg\n",
            "input is image/train/broken/261.jpg\n",
            "input is image/train/broken/262.jpg\n",
            "input is image/train/broken/263.jpg\n",
            "input is image/train/broken/264.jpg\n",
            "input is image/train/broken/265.jpg\n",
            "input is image/train/broken/266.jpg\n",
            "input is image/train/broken/267.jpg\n",
            "input is image/train/broken/268.jpg\n",
            "input is image/train/broken/269.jpg\n",
            "input is image/train/broken/270.jpg\n",
            "input is image/train/broken/271.jpg\n",
            "input is image/train/broken/272.jpg\n",
            "input is image/train/broken/273.jpg\n",
            "input is image/train/broken/274.jpg\n",
            "input is image/train/broken/275.jpg\n",
            "input is image/train/broken/276.jpg\n",
            "input is image/train/broken/277.jpg\n",
            "input is image/train/broken/278.jpg\n",
            "input is image/train/broken/279.jpg\n",
            "input is image/train/broken/280.jpg\n",
            "input is image/train/broken/281.jpg\n",
            "input is image/train/broken/282.jpg\n",
            "input is image/train/broken/283.jpg\n",
            "input is image/train/broken/284.jpg\n",
            "input is image/train/broken/285.jpg\n",
            "input is image/train/broken/286.jpg\n",
            "input is image/train/broken/287.jpg\n",
            "input is image/train/broken/288.jpg\n",
            "input is image/train/broken/289.jpg\n",
            "input is image/train/broken/290.jpg\n",
            "input is image/train/broken/291.jpg\n",
            "input is image/train/broken/292.jpg\n",
            "input is image/train/broken/293.jpg\n",
            "input is image/train/broken/294.jpg\n",
            "input is image/train/broken/295.jpg\n",
            "input is image/train/broken/296.jpg\n",
            "input is image/train/broken/297.jpg\n",
            "input is image/train/broken/298.jpg\n",
            "input is image/train/broken/299.jpg\n",
            "input is image/train/broken/300.jpg\n",
            "input is image/train/broken/301.jpg\n",
            "input is image/train/broken/302.jpg\n",
            "input is image/train/broken/303.jpg\n",
            "input is image/train/broken/304.jpg\n",
            "input is image/train/broken/305.jpg\n",
            "input is image/train/broken/306.jpg\n",
            "input is image/train/broken/307.jpg\n",
            "input is image/train/broken/308.jpg\n",
            "input is image/train/broken/309.jpg\n",
            "input is image/train/broken/310.jpg\n",
            "input is image/train/broken/311.jpg\n",
            "input is image/train/broken/312.jpg\n",
            "input is image/train/broken/313.jpg\n",
            "input is image/train/broken/314.jpg\n",
            "input is image/train/broken/315.jpg\n",
            "input is image/train/broken/316.jpg\n",
            "input is image/train/broken/317.jpg\n",
            "input is image/train/broken/318.jpg\n",
            "input is image/train/broken/319.jpg\n",
            "input is image/train/broken/320.jpg\n",
            "input is image/train/broken/321.jpg\n",
            "input is image/train/broken/322.jpg\n",
            "input is image/train/broken/323.jpg\n",
            "input is image/train/broken/324.jpg\n",
            "input is image/train/broken/325.jpg\n",
            "input is image/train/broken/326.jpg\n",
            "input is image/train/broken/327.jpg\n",
            "input is image/train/broken/328.jpg\n",
            "input is image/train/broken/329.jpg\n",
            "input is image/train/broken/330.jpg\n",
            "input is image/train/broken/331.jpg\n",
            "input is image/train/broken/332.jpg\n",
            "input is image/train/broken/333.jpg\n",
            "input is image/train/broken/334.jpg\n",
            "input is image/train/broken/335.jpg\n",
            "input is image/train/broken/336.jpg\n",
            "input is image/train/broken/337.jpg\n",
            "input is image/train/broken/338.jpg\n",
            "input is image/train/broken/339.jpg\n",
            "input is image/train/broken/340.jpg\n",
            "input is image/train/broken/341.jpg\n",
            "input is image/train/broken/342.jpg\n",
            "input is image/train/broken/343.jpg\n",
            "input is image/train/broken/344.jpg\n",
            "input is image/train/broken/345.jpg\n",
            "input is image/train/broken/346.jpg\n",
            "input is image/train/broken/347.jpg\n",
            "input is image/train/broken/348.jpg\n",
            "input is image/train/broken/349.jpg\n",
            "input is image/train/broken/350.jpg\n",
            "input is image/train/broken/351.jpg\n",
            "input is image/train/broken/352.jpg\n",
            "input is image/train/broken/353.jpg\n",
            "input is image/train/broken/354.jpg\n",
            "input is image/train/broken/355.jpg\n",
            "input is image/train/broken/356.jpg\n",
            "input is image/train/broken/357.jpg\n",
            "input is image/train/broken/358.jpg\n",
            "input is image/train/broken/359.jpg\n",
            "input is image/train/broken/360.jpg\n",
            "input is image/train/broken/361.jpg\n",
            "input is image/train/broken/362.jpg\n",
            "input is image/train/broken/363.jpg\n",
            "input is image/train/broken/364.jpg\n",
            "input is image/train/broken/365.jpg\n",
            "input is image/train/broken/366.jpg\n",
            "input is image/train/broken/367.jpg\n",
            "input is image/train/broken/368.jpg\n",
            "input is image/train/broken/369.jpg\n",
            "input is image/train/broken/370.jpg\n",
            "input is image/train/broken/371.jpg\n",
            "input is image/train/broken/372.jpg\n",
            "input is image/train/broken/373.jpg\n",
            "input is image/train/broken/374.jpg\n",
            "input is image/train/broken/375.jpg\n",
            "input is image/train/broken/376.jpg\n",
            "input is image/train/broken/377.jpg\n",
            "input is image/train/broken/378.jpg\n",
            "input is image/train/broken/379.jpg\n",
            "input is image/train/broken/380.jpg\n",
            "input is image/train/broken/381.jpg\n",
            "input is image/train/broken/382.jpg\n",
            "input is image/train/broken/383.jpg\n",
            "input is image/train/broken/384.jpg\n",
            "input is image/train/broken/385.jpg\n",
            "input is image/train/broken/386.jpg\n",
            "input is image/train/broken/387.jpg\n",
            "input is image/train/broken/388.jpg\n",
            "input is image/train/broken/389.jpg\n",
            "input is image/train/broken/390.jpg\n",
            "input is image/train/broken/391.jpg\n",
            "input is image/train/broken/392.jpg\n",
            "input is image/train/broken/393.jpg\n",
            "input is image/train/broken/394.jpg\n",
            "input is image/train/broken/395.jpg\n",
            "input is image/train/broken/396.jpg\n",
            "input is image/train/broken/397.jpg\n",
            "input is image/train/broken/398.jpg\n",
            "input is image/train/broken/399.jpg\n",
            "input is image/train/broken/400.jpg\n"
          ],
          "name": "stdout"
        }
      ]
    },
    {
      "metadata": {
        "id": "75X0z2b8E2CJ",
        "colab_type": "code",
        "colab": {}
      },
      "cell_type": "code",
      "source": [
        "#完成したoutput.csvファイルを開いて確認してみてください。\n",
        "#このままエクセルやRで解析しても構いません。\n",
        "#ここまでで大量の画像から任意の情報を取得する方法を紹介しました。"
      ],
      "execution_count": 0,
      "outputs": []
    },
    {
      "metadata": {
        "scrolled": true,
        "id": "6YQ7qPCQE2CK",
        "colab_type": "code",
        "colab": {}
      },
      "cell_type": "code",
      "source": [
        "#整粒米と割れ米を識別するレベル１人工知能を作ってみましょう。"
      ],
      "execution_count": 0,
      "outputs": []
    },
    {
      "metadata": {
        "id": "BqtnH1ANE2CL",
        "colab_type": "code",
        "colab": {},
        "outputId": "7326ca65-f725-45da-c323-b7ac5e672bfa"
      },
      "cell_type": "code",
      "source": [
        "#先程作成したcsvファイルを読み込む\n",
        "df =pd.read_csv(\"output.csv\") #データフレームとして読み込みます。 #ここまでの処理がうまくいかなかった人はoutput_sample.csvを使用してください。\n",
        "#df =pd.read_csv(\"output_sample.csv\") \n",
        "\n",
        "x = df[[\"Area\",\"Major_axis_length\"]] #xに二列分のデータを読み込みます。\n",
        "X = x.as_matrix() #配列に変換しています。\n",
        "y = df[\"Grain_type\"] #区分を読み込みます。\n",
        "y = y.as_matrix()\n",
        "\n",
        "print (\"読み込まれました\")"
      ],
      "execution_count": 0,
      "outputs": [
        {
          "output_type": "stream",
          "text": [
            "読み込まれました\n"
          ],
          "name": "stdout"
        }
      ]
    },
    {
      "metadata": {
        "id": "tr_9PiRPE2CN",
        "colab_type": "code",
        "colab": {},
        "outputId": "e9ea545b-48c5-41f5-8968-81e6f885821e"
      },
      "cell_type": "code",
      "source": [
        "#面積をx軸、平均輝度をy軸にプロットした図を作成してみましょう。\n",
        "\n",
        "#散布図を作成します。x,y,色ラベル情報,カラーマップと並びます。\n",
        "plt.scatter(X[:, 0], X[:, 1], c=y)\n",
        "#軸情報\n",
        "plt.xlabel('Area')\n",
        "plt.ylabel('Major_axis_length')\n",
        "plt.title('rice seeds, proper and broken morphological information')\n",
        "plt.show()\n",
        "\n",
        "#エラーがでる場合はoutput.csvを削除してIn[46]からやりなおしてください。"
      ],
      "execution_count": 0,
      "outputs": [
        {
          "output_type": "display_data",
          "data": {
            "image/png": "[encoded data removed]",
            "text/plain": [
              "<matplotlib.figure.Figure at 0x12156d278>"
            ]
          },
          "metadata": {
            "tags": []
          }
        }
      ]
    },
    {
      "metadata": {
        "id": "gLmcYc01E2CP",
        "colab_type": "code",
        "colab": {}
      },
      "cell_type": "code",
      "source": [
        "#どうやら面積と長軸長さどちらでも分類ができそうです。今回は面積にしましょう。\n",
        "#面積を”特徴”に正粒米と割れ米を識別する装置をつくります。\n",
        "\n",
        "#設計プロセス\n",
        "#フォルダの中にあるファイルの数を数える\n",
        "#画像一枚ずつ面積を測る。\n",
        "#閾値より大きければ整粒米、閾値より小さければ割れ米として処理をする。\n",
        "\n",
        "\n",
        "#画像のパスと閾値を入力すると、整粒米であれば１、割れ米であれば２、測定できなかった場合３を返す関数\n",
        "def classify(path_of_image,area_threshold): \n",
        "    image = imread(path_of_image)\n",
        "    gray = rgb2gray(image)\n",
        "    threshold = threshold_otsu(gray)\n",
        "    binary = gray > threshold\n",
        "    label_im, nb_labels = ndimage.label(binary)\n",
        "    regionprops = measure.regionprops(label_im, intensity_image=gray)\n",
        "    if len(regionprops)==1: #今回は領域が一つだけ測定できた場合のみにかぎりましょう。\n",
        "        if regionprops[0].area > area_threshold:\n",
        "            return 1\n",
        "        else:\n",
        "            return 2\n",
        "    else:\n",
        "        return 3\n",
        "    \n",
        "#ファイルのリストを引数としてとり、整粒米、割れ米、測定できなかった数を集計して返す関数\n",
        "def count(files,area_threshold):\n",
        "    no_of_proper = 0\n",
        "    no_of_broken = 0\n",
        "    no_of_error = 0\n",
        "\n",
        "    for file in files:\n",
        "        result = classify(file,area_threshold) #判別する\n",
        "        if result == 1:\n",
        "            no_of_proper += 1\n",
        "        if result == 2:\n",
        "            no_of_broken += 1\n",
        "        if result == 3:\n",
        "            no_of_error += 1\n",
        "    return no_of_proper, no_of_broken, no_of_error"
      ],
      "execution_count": 0,
      "outputs": []
    },
    {
      "metadata": {
        "scrolled": false,
        "id": "Rdu1YkR4E2CQ",
        "colab_type": "code",
        "colab": {},
        "outputId": "3fbd77b5-c303-4cdb-ef7c-5ae7bfc44992"
      },
      "cell_type": "code",
      "source": [
        "files = get_file_list_in_folder(\"image/train/proper\") #上の方で定義したファイルリストを取得する関数\n",
        "files2 = get_file_list_in_folder(\"image/train/broken\")\n",
        "#count関数を実行すると、一つ一つの画像に対してclassify関数を実行し、整粒米か割れ米か区別し、帰ってきた結果を集計します。\n",
        "\n",
        "area_threshold = 30\n",
        "\n",
        "no_of_proper, no_of_broken, no_of_error = count(files,area_threshold)\n",
        "length = len(files)\n",
        "print (\"整粒米ディレクトリに入っている画像は\",length,\"枚です\")\n",
        "print (\"測定できたのは\",no_of_proper+no_of_broken,\"枚です。\")\n",
        "print (\"整粒米と判定されたのは\",no_of_proper,\"枚です。\")\n",
        "print (\"割れ米と判定されたのは\",no_of_broken,\"枚です。\")\n",
        "print (\"_________________________________________\")\n",
        "no_of_proper, no_of_broken, no_of_error = count(files2,area_threshold)\n",
        "length = len(files2)\n",
        "print (\"割れ米ディレクトリに入っている画像は\",length,\"枚です\")\n",
        "print (\"測定できたのは\",no_of_proper+no_of_broken,\"枚です。\")\n",
        "print (\"整粒米と判定されたのは\",no_of_proper,\"枚です。\")\n",
        "print (\"割れ米と判定されたのは\",no_of_broken,\"枚です。\")\n",
        "\n",
        "#area_thresholdの値を変えながら誤分類がなるべくすくなくなるような値を探してみましょう。\n",
        "#散布図を見れば想像がつきますが、大体350あたりがよさそうですね。"
      ],
      "execution_count": 0,
      "outputs": [
        {
          "output_type": "stream",
          "text": [
            "整粒米ディレクトリに入っている画像は 146 枚です\n",
            "測定できたのは 146 枚です。\n",
            "整粒米と判定されたのは 146 枚です。\n",
            "割れ米と判定されたのは 0 枚です。\n",
            "_________________________________________\n",
            "割れ米ディレクトリに入っている画像は 231 枚です\n",
            "測定できたのは 231 枚です。\n",
            "整粒米と判定されたのは 231 枚です。\n",
            "割れ米と判定されたのは 0 枚です。\n"
          ],
          "name": "stdout"
        }
      ]
    },
    {
      "metadata": {
        "id": "GutT_CrXE2CR",
        "colab_type": "code",
        "colab": {},
        "outputId": "ea457d75-fd3d-42c8-fc76-29622a6e72a1"
      },
      "cell_type": "code",
      "source": [
        "#閾値を手で設定するのは少々大変です。\n",
        "#レベル２人工知能をつかって閾値を自動的に計算してもらいましょう。\n",
        "#今回はサポートベクターマシーン（機械学習の一種）による計算を行います。\n",
        "\n",
        "#念の為読み込みなおす。\n",
        "#---------------------------\n",
        "df =pd.read_csv(\"output.csv\")\n",
        "\n",
        "x = df[[\"Area\",\"Major_axis_length\"]] #xに二列分のデータを読み込みます。\n",
        "X = x.as_matrix() #配列に変換しています。\n",
        "y = df[\"Grain_type\"] #区分を読み込みます。\n",
        "y = y.as_matrix()\n",
        "#---------------------------\n",
        "\n",
        "C = 1.0  # SVM regularization parameter\n",
        "svc=svm.SVC(kernel='linear',C=C).fit(X,y)\n",
        "\n",
        "h = .02  # step size in the mesh\n",
        "# we create an instance of SVM and fit out data. We do not scale our\n",
        "# data since we want to plot the support vectors\n",
        "\n",
        "# create a mesh to plot in\n",
        "x_min, x_max = X[:, 0].min() - 1, X[:, 0].max() + 1\n",
        "y_min, y_max = X[:, 1].min() - 1, X[:, 1].max() + 1\n",
        "\n",
        "xx, yy = np.meshgrid(np.arange(x_min, x_max, h),\n",
        "                     np.arange(y_min, y_max, h))\n",
        "\n",
        "Z = svc.predict(np.c_[xx.ravel(), yy.ravel()])\n",
        "# Put the result into a color plot\n",
        "Z = Z.reshape(xx.shape)\n",
        "plt.contourf(xx, yy, Z, cmap=plt.cm.coolwarm, alpha=0.5)\n",
        "\n",
        "# Plot also the training points\n",
        "plt.scatter(X[:, 0], X[:, 1], c=y, cmap=plt.cm.coolwarm)\n",
        "plt.xlabel('Area')\n",
        "plt.ylabel('Major_axis_length')\n",
        "plt.xlim(xx.min(), xx.max())\n",
        "plt.ylim(yy.min(), yy.max())\n",
        "\n",
        "plt.show()\n",
        "\n",
        "\n",
        "#結果はどのように表示されましたか？\n",
        "#レベル１では面積のみを指標にしましたが、サポートベクターマシーンは面積と長軸長双方とも使用しているようですね。"
      ],
      "execution_count": 0,
      "outputs": [
        {
          "output_type": "display_data",
          "data": {
            "image/png": "[encoded data removed]",
            "text/plain": [
              "<matplotlib.figure.Figure at 0x1021c8b38>"
            ]
          },
          "metadata": {
            "tags": []
          }
        }
      ]
    },
    {
      "metadata": {
        "id": "RVGfRxGvE2Ck",
        "colab_type": "code",
        "colab": {},
        "outputId": "91c22c47-386e-4a4a-8e7f-4e2b4aa3190a"
      },
      "cell_type": "code",
      "source": [
        "#作成した分類器はこのように使うことができます。\n",
        "virtual_rice = [400,35]  #面積、長軸長\n",
        "value = np.array(virtual_rice).reshape(1,-1)\n",
        "prediction = svc.predict(value)\n",
        "print (\"入力された情報から推測される分類クラスは\",prediction,\"です\")\n",
        "#１が整粒米、２が割れ米です。\n",
        "#virtual_riceの情報を色々変えてみて結果がどうかわるか試してみて下さい。"
      ],
      "execution_count": 0,
      "outputs": [
        {
          "output_type": "stream",
          "text": [
            "入力された情報から推測される分類クラスは [1] です\n"
          ],
          "name": "stdout"
        }
      ]
    },
    {
      "metadata": {
        "id": "Z2FjxhzPE2Cl",
        "colab_type": "code",
        "colab": {},
        "outputId": "56934daf-a2c5-444b-fd04-f5037bef45dd"
      },
      "cell_type": "code",
      "source": [
        "#おまけ。分類器の保存と復元\n",
        "#保存したファイルを取っておいて、他のプログラムと組み合わせる事ができます。\n",
        "#http://web-salad.hateblo.jp/entry/2014/11/09/090000\n",
        "joblib.dump(svc,'svm_checkpoint.pkl') #保存します\n",
        "svc=joblib.load('svm_checkpoint.pkl') #復元します\n",
        "print (svc.predict(value)) #使います。"
      ],
      "execution_count": 0,
      "outputs": [
        {
          "output_type": "stream",
          "text": [
            "[1]\n"
          ],
          "name": "stdout"
        }
      ]
    },
    {
      "metadata": {
        "id": "pHM81sLIE2Cm",
        "colab_type": "code",
        "colab": {}
      },
      "cell_type": "code",
      "source": [
        "#ちなみに他のパラメーターを使用するとどうなるでしょうか？\n",
        "#整流米は割れ米に比べて楕円らしさが高いですね。\n",
        "#regionspropsに楕円らしさを測るeccentricityがあります(1が完全な楕円)。それを使用してみましょう。\n",
        "#csvに保存せずに変数の受け渡しのみで最後までいってみましょう。\n",
        "\n",
        "proper_ec = [] #空のリストを作成します\n",
        "broken_ec = []\n",
        "\n",
        "proper_seeds = get_file_list_in_folder(\"image/train/proper\")  #前に定義した関数を使いまわします。\n",
        "broken_seeds = get_file_list_in_folder(\"image/train/broken\")\n",
        "\n",
        "for path_of_image in proper_seeds:\n",
        "    image = imread(path_of_image)\n",
        "    gray = rgb2gray(image)\n",
        "    threshold = threshold_otsu(gray)\n",
        "    binary = gray > threshold\n",
        "    label_im, nb_labels = ndimage.label(binary)\n",
        "    regionprops = measure.regionprops(label_im, intensity_image=gray)\n",
        "    if len(regionprops) == 1: #1個のみ領域が検出された場合、以下の処理を行う。\n",
        "        a = regionprops[0].eccentricity\n",
        "        proper_ec.append(a) #楕円度\n",
        "\n",
        "for path_of_image in broken_seeds:\n",
        "    image = imread(path_of_image)\n",
        "    gray = rgb2gray(image)\n",
        "    threshold = threshold_otsu(gray)\n",
        "    binary = gray > threshold\n",
        "    label_im, nb_labels = ndimage.label(binary)\n",
        "    regionprops = measure.regionprops(label_im, intensity_image=gray)\n",
        "    if len(regionprops) == 1: #1個のみ領域が検出された場合、以下の処理を行う。\n",
        "        a = regionprops[0].eccentricity\n",
        "        broken_ec.append(a) #楕円度\n"
      ],
      "execution_count": 0,
      "outputs": []
    },
    {
      "metadata": {
        "scrolled": true,
        "id": "bKJd7qOOE2Cn",
        "colab_type": "code",
        "colab": {},
        "outputId": "23462230-be8e-4127-92ad-cfd2651ee1a3"
      },
      "cell_type": "code",
      "source": [
        "plt.hist(proper_ec,bins=10,histtype='stepfilled', color='b', label='Proper')\n",
        "plt.hist(broken_ec,bins=10,histtype='stepfilled', color='r', label='Broken')\n",
        "plt.legend()\n",
        "plt.xlabel(\"Eccentricity\")\n",
        "plt.ylabel(\"Number of seeds\")\n",
        "plt.show()\n",
        "\n",
        "#このような尺度（特徴量）でも分類することができそうですね。\n",
        "#このように特徴量設計（定義）がうまくいけば高精度で解析が可能です。ただ、生物情報の解析は往々にして\n",
        "#うまくいきません、そのような時はレベル３人工知能で紹介するディープラーニングが強い力を発揮します。\n",
        "#ディープラーニングを利用すると、特徴量設計をコンピュータにまかせることができます。"
      ],
      "execution_count": 0,
      "outputs": [
        {
          "output_type": "display_data",
          "data": {
            "image/png": "[encoded data removed]",
            "text/plain": [
              "<matplotlib.figure.Figure at 0x1218172e8>"
            ]
          },
          "metadata": {
            "tags": []
          }
        }
      ]
    },
    {
      "metadata": {
        "id": "-sW3yyNkE2Cp",
        "colab_type": "code",
        "colab": {}
      },
      "cell_type": "code",
      "source": [
        "#次はディープラーニング、レベル３人工知能"
      ],
      "execution_count": 0,
      "outputs": []
    },
    {
      "metadata": {
        "id": "ii2LX74sE2Cp",
        "colab_type": "code",
        "colab": {}
      },
      "cell_type": "code",
      "source": [
        "from __future__ import print_function\n",
        "import keras\n",
        "#from keras.datasets import mnist\n",
        "from keras.models import Sequential\n",
        "from keras.layers import Dense, Dropout, Flatten, Activation\n",
        "from keras.layers import Conv2D, MaxPooling2D\n",
        "from keras import backend as K\n",
        "from keras.preprocessing.image import ImageDataGenerator"
      ],
      "execution_count": 0,
      "outputs": []
    },
    {
      "metadata": {
        "scrolled": true,
        "id": "IxZB-wyFE2Cq",
        "colab_type": "code",
        "colab": {},
        "outputId": "d417e4af-fddd-4acf-eec5-a1b152bc0bb3"
      },
      "cell_type": "code",
      "source": [
        "#ディレクトリから画像を読み込みます。\n",
        "\n",
        "train_datagen = ImageDataGenerator( #data augmentation　訓練データを水増しします。\n",
        "        rescale=1./255,\n",
        "        horizontal_flip=True,\n",
        "        vertical_flip=True)\n",
        "\n",
        "test_datagen = ImageDataGenerator(\n",
        "        rescale=1./255,\n",
        "        horizontal_flip=True,\n",
        "        vertical_flip=True)\n",
        "\n",
        "train_generator = train_datagen.flow_from_directory(\n",
        "        'image/train/',\n",
        "        target_size=(32, 32), #height,widthのサイズに強制リサイズします。\n",
        "        batch_size=32,\n",
        "        class_mode='categorical')\n",
        "\n",
        "validation_generator = test_datagen.flow_from_directory(\n",
        "        'image/valid/',\n",
        "        target_size=(32, 32),\n",
        "        batch_size=32,\n",
        "        class_mode='categorical')\n",
        "\n",
        "print (train_generator.class_indices)\n",
        "print (validation_generator.class_indices)\n",
        "#one hot encoding.　正常　＝ [0,1]　割れ= [1,0]といったラベルになっています"
      ],
      "execution_count": 0,
      "outputs": [
        {
          "output_type": "stream",
          "text": [
            "Found 377 images belonging to 2 classes.\n",
            "Found 20 images belonging to 2 classes.\n",
            "{'proper': 1, 'broken': 0}\n",
            "{'proper': 1, 'broken': 0}\n"
          ],
          "name": "stdout"
        }
      ]
    },
    {
      "metadata": {
        "id": "5pOC_H3HE2Cr",
        "colab_type": "code",
        "colab": {}
      },
      "cell_type": "code",
      "source": [
        "#モデルの定義。cifar-10のサンプルを流用しています。\n",
        "\n",
        "\n",
        "input_shape = (32,32,3)\n",
        "\n",
        "model = Sequential()\n",
        "\n",
        "model.add(Conv2D(32, (3, 3), padding='same',input_shape=input_shape))\n",
        "model.add(Activation('relu'))\n",
        "model.add(Conv2D(32, (3, 3)))\n",
        "model.add(Activation('relu'))\n",
        "model.add(MaxPooling2D(pool_size=(2, 2)))\n",
        "model.add(Dropout(0.25))\n",
        "\n",
        "model.add(Conv2D(64, (3, 3), padding='same'))\n",
        "model.add(Activation('relu'))\n",
        "model.add(Conv2D(64, (3, 3)))\n",
        "model.add(Activation('relu'))\n",
        "model.add(MaxPooling2D(pool_size=(2, 2)))\n",
        "model.add(Dropout(0.25))\n",
        "\n",
        "model.add(Flatten())\n",
        "model.add(Dense(512))\n",
        "model.add(Activation('relu'))\n",
        "model.add(Dropout(0.5))\n",
        "model.add(Dense(2))\n",
        "model.add(Activation('softmax'))\n",
        "\n",
        "# Let's train the model using RMSprop\n",
        "model.compile(loss='categorical_crossentropy',\n",
        "              optimizer='adam',\n",
        "              metrics=['accuracy'])"
      ],
      "execution_count": 0,
      "outputs": []
    },
    {
      "metadata": {
        "id": "p4Olkr09E2Cr",
        "colab_type": "code",
        "colab": {}
      },
      "cell_type": "code",
      "source": [
        "#モデルをチェックしてみましょう。\n",
        "model.summary()"
      ],
      "execution_count": 0,
      "outputs": []
    },
    {
      "metadata": {
        "scrolled": true,
        "id": "7qaX6Xj_E2Cr",
        "colab_type": "code",
        "colab": {}
      },
      "cell_type": "code",
      "source": [
        "model.fit_generator(\n",
        "        train_generator,\n",
        "        samples_per_epoch=1000,\n",
        "        epochs=10,\n",
        "        validation_data=validation_generator,\n",
        "        validation_steps=10)\n",
        "\n",
        "model.save(\"model.hdf5\")"
      ],
      "execution_count": 0,
      "outputs": []
    },
    {
      "metadata": {
        "id": "e98ZN_lXE2Cs",
        "colab_type": "code",
        "colab": {},
        "outputId": "aee9c72d-0a17-41a7-ea51-f2bbab516840"
      },
      "cell_type": "code",
      "source": [
        "#model.load_weights(\"model.hdf5\")で読み込むことができます。このnotebookを閉じない限りmodelは読み込まれたままです。\n",
        "from skimage.transform import resize\n",
        "\n",
        "inputdata = imread(\"image/146.jpg\")/255.\n",
        "inputdata = resize(inputdata,(32,32))\n",
        "inputdata = np.expand_dims(inputdata,axis=0)\n",
        "print(inputdata.shape)\n",
        "\n",
        "#(1, 32, 32, 3)　（バッチ、height, width, channel）\n",
        "#モデルには複数の画像（バッチ）を入力するようにしているので、単一のバッチと定義するため、expand_dimを使用\n",
        "#カラーなので、最後の3はRGBで3チャネルです。\n",
        "\n",
        "y = model.predict(inputdata)\n",
        "#0~1の結果が返ってくるので１００をかけて０〜１００％表示に修正\n",
        "print(y*100.0)\n",
        "\n",
        "#[0,1]で100%正常米\n",
        "#[1,0]で100%割れ米\n",
        "\n",
        "\n",
        "result = np.argmax(y) #何番目の数値が大きいか\n",
        "if result == 0:\n",
        "    print (\"この画像は割れ米の可能性\",y[0][0]*100,\"%です\")\n",
        "\n",
        "if result == 1:\n",
        "    print (\"この画像は正常米の可能性\",y[0][1]*100,\"%です\")\n",
        "\n"
      ],
      "execution_count": 0,
      "outputs": [
        {
          "output_type": "stream",
          "text": [
            "(1, 32, 32, 3)\n",
            "[[  9.99642715e+01   3.57273631e-02]]\n",
            "この画像は割れ米の可能性 99.9642729759 %です\n"
          ],
          "name": "stdout"
        }
      ]
    },
    {
      "metadata": {
        "id": "fcpfOaIsE2Ct",
        "colab_type": "code",
        "colab": {}
      },
      "cell_type": "code",
      "source": [
        "#第１層のフィルタの可視化や\n",
        "#フィルタ適用後の画像等を表示すると、ネットワークがどのように学習しているかより深い理解が可能になります。\n",
        "#インターネットの様々なサイトでコードを参照できるので各自調べてみて下さい。\n",
        "\n",
        "#今日はここまでです。"
      ],
      "execution_count": 0,
      "outputs": []
    }
  ]
}